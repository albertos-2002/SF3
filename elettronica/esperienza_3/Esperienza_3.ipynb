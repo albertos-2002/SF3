{
  "nbformat": 4,
  "nbformat_minor": 0,
  "metadata": {
    "colab": {
      "provenance": [],
      "include_colab_link": true
    },
    "kernelspec": {
      "name": "python3",
      "display_name": "Python 3"
    },
    "language_info": {
      "name": "python"
    }
  },
  "cells": [
    {
      "cell_type": "markdown",
      "metadata": {
        "id": "view-in-github",
        "colab_type": "text"
      },
      "source": [
        "<a href=\"https://colab.research.google.com/github/albertos-2002/SF3/blob/main/elettronica/esperienza_3/Esperienza_3.ipynb\" target=\"_parent\"><img src=\"https://colab.research.google.com/assets/colab-badge.svg\" alt=\"Open In Colab\"/></a>"
      ]
    },
    {
      "cell_type": "code",
      "execution_count": 3,
      "metadata": {
        "id": "fxCDBe_ppRKp"
      },
      "outputs": [],
      "source": [
        "import math\n",
        "import numpy as np\n",
        "import matplotlib.pyplot as plt\n",
        "from scipy.optimize import curve_fit"
      ]
    },
    {
      "cell_type": "markdown",
      "source": [
        "#Librerie"
      ],
      "metadata": {
        "id": "TXA982tMpwFF"
      }
    },
    {
      "cell_type": "code",
      "source": [
        "def retta_fit_xba(x, b,a):\n",
        "  y = []\n",
        "  for i in range(len(x)):\n",
        "    dummy = 0\n",
        "    dummy = (x[i]*b) + a\n",
        "    y.append(dummy)\n",
        "  return y"
      ],
      "metadata": {
        "id": "fgNQJ74yk0qS"
      },
      "execution_count": null,
      "outputs": []
    },
    {
      "cell_type": "code",
      "source": [
        "def regrlin_pear_errpost_xys(input_x, input_y, input_sigma) :\n",
        "  import math\n",
        "  import sys\n",
        "  #dati input\n",
        "  x = list(input_x)\n",
        "  y = list(input_y)\n",
        "  sigma = list(input_sigma)\n",
        "  dimensione = len(x)\n",
        "  if len(x) != len(y):\n",
        "    print(\"X E Y DIMENSIONE DIVERSA\")\n",
        "    sys.exit()\n",
        "  if len(x) != len(sigma):\n",
        "    print(\"X E SIGMA DIMENSIONE DIVERSA\")\n",
        "    sys.exit()\n",
        "  #REGRESSIOBNE LINEARE\n",
        "  #calcolo del delta\n",
        "  parametro_1 = 0\n",
        "  parametro_2 = 0\n",
        "  parametro_3 = 0\n",
        "  for i in range(dimensione): #primo termine del delta\n",
        "    dummy_1 = 0\n",
        "    dummy_1 = 1/ pow(sigma[i],2)\n",
        "    parametro_1 = dummy_1 + parametro_1\n",
        "  for i in range(dimensione): #secondo termine del delta\n",
        "    dummy_2 = 0\n",
        "    dummy_2 = pow(x[i],2) / pow(sigma[i],2)\n",
        "    parametro_2 = dummy_2 + parametro_2\n",
        "  dummy_3_1 = 0\n",
        "  for i in range(dimensione): #terzo termine del delta\n",
        "    dummy_3 = 0\n",
        "    dummy_3 = x[i] / pow(sigma[i],2)\n",
        "    dummy_3_1 = dummy_3 + dummy_3_1\n",
        "  parametro_3 = pow(dummy_3_1,2)\n",
        "  delta = (parametro_1*parametro_2) - parametro_3\n",
        "  delta_1 = 1/delta\n",
        "  #calcolo di b\n",
        "  parametro_4 = 0\n",
        "  parametro_5 = 0\n",
        "  parametro_6 = 0\n",
        "  parametro_7 = 0\n",
        "  for i in range(dimensione): #calcolo del primo termine di a\n",
        "    dummy_4 = 0\n",
        "    dummy_4 = 1/pow(sigma[i],2)\n",
        "    parametro_4 = dummy_4 + parametro_4\n",
        "  for i in range(dimensione): #calcolo del secondo termine di a\n",
        "    dummy_5 = 0\n",
        "    dummy_5 = (x[i]*y[i]) / pow(sigma[i],2)\n",
        "    parametro_5 = dummy_5 + parametro_5\n",
        "  for i in range(dimensione): #calcolo del terzo termine di a\n",
        "    dummy_6 = 0\n",
        "    dummy_6 = x[i] / pow(sigma[i],2)\n",
        "    parametro_6 = dummy_6 + parametro_6\n",
        "  for i in range(dimensione): #calcolo del quarto termine di a\n",
        "    dummy_7 = 0\n",
        "    dummy_7 = y[i] / pow(sigma[i],2)\n",
        "    parametro_7 = dummy_7 + parametro_7\n",
        "  dummy_b1 = delta_1*parametro_4*parametro_5\n",
        "  dummy_b2 = delta_1*parametro_6*parametro_7\n",
        "  b = dummy_b1-dummy_b2\n",
        "\t#calcolo di a\n",
        "  parametro_8 = parametro_2\n",
        "  parametro_9 = parametro_7\n",
        "  parametro_10 = parametro_6\n",
        "  parametro_11 = parametro_5\n",
        "  dummy_a1 = delta_1*parametro_8*parametro_9\n",
        "  dummy_a2 = delta_1*parametro_10*parametro_11\n",
        "  a = dummy_a1-dummy_a2\n",
        "  #calcolo incertezza e covarianza\n",
        "  #sigma b\n",
        "  sigma_b = math.sqrt(delta_1*parametro_1)\n",
        "  #sigma a\n",
        "  sigma_a = math.sqrt(delta_1*parametro_8)\n",
        "  #covrianza\n",
        "  #al mmento non disponibile\n",
        "  #COEFFICIENTE DI CORRELLAZIONE DI PEARSON\n",
        "  media_x = sum(x) / dimensione\n",
        "  media_y = sum(y) / dimensione\n",
        "  numeratore = 0\n",
        "  denominatore = 0\n",
        "  dummy_denx = 0\n",
        "  dummy_deny = 0\n",
        "  for i in range(dimensione):\n",
        "    dummy_x = x[i]-media_x\n",
        "    dummy_y = y[i]-media_y\n",
        "    dummy_numeratore = dummy_x*dummy_y\n",
        "    numeratore = dummy_numeratore + numeratore\n",
        "    dummy_x2 = pow(dummy_x,2)\n",
        "    dummy_y2 = pow(dummy_y,2)\n",
        "    dummy_denx = dummy_x2 + dummy_denx\n",
        "    dummy_deny = dummy_y2 + dummy_deny\n",
        "  dummy_denominatore = dummy_denx * dummy_deny\n",
        "  denominatore = math.sqrt(dummy_denominatore)\n",
        "  rxy = numeratore / denominatore\n",
        "  numeratore_sigma = 1 - pow(rxy,2)\n",
        "  denominatore_sigma = dimensione - 2\n",
        "  sigma_rxy = math.sqrt(numeratore_sigma/denominatore_sigma)\n",
        "  #ERRORE A POSTERIORI\n",
        "  parametro_12 = 1 / (dimensione - 2)\n",
        "  y_riferimento = []\n",
        "  for i in range(dimensione):\n",
        "    dummy_y = 0\n",
        "    dummy_y = a + (b*x[i])\n",
        "    y_riferimento.append(dummy_y)\n",
        "  scarti_quadrati = 0\n",
        "  for i in range(dimensione):\n",
        "    dummy_sq = y[i] - y_riferimento[i]\n",
        "    dummy_sq2 = pow(dummy_sq,2)\n",
        "    scarti_quadrati = dummy_sq2 + scarti_quadrati\n",
        "  errore_posteriori = math.sqrt(parametro_12*scarti_quadrati)\n",
        "  #print dei risultati\n",
        "  print(\"pendenza $b$\\t\", b)\n",
        "  print(\"$\\sigma_b$\\t\", sigma_b)\n",
        "  print(\"intercetta $a$\\t\", a)\n",
        "  print(\"$\\sigma_a$\\t\", sigma_a)\n",
        "  #print(\"covarianza\", )\n",
        "  print(\"Coefficiente di Pearson $\\\\rho_{xy}$\\t\",  rxy)\n",
        "  print(\"$\\sigma_{\\\\rho_{xy}}$\\t\", sigma_rxy)\n",
        "  print(\"Errore a posteriori $\\delta$\\t\",  errore_posteriori)"
      ],
      "metadata": {
        "id": "NR2i62VxjVb3"
      },
      "execution_count": null,
      "outputs": []
    },
    {
      "cell_type": "markdown",
      "source": [
        "#Analisi"
      ],
      "metadata": {
        "id": "FyQpgj-5pxod"
      }
    },
    {
      "cell_type": "markdown",
      "source": [
        "capacita metric 0.650 scala 1000pf 0.68pF\n",
        "R1 8.1667 scala 10.000k\n",
        "Rf 14.972 scala 100.00k"
      ],
      "metadata": {
        "id": "5raLUnKTy1to"
      }
    },
    {
      "cell_type": "code",
      "source": [
        "#frequenza di taglio teorica\n",
        "R1 = 8.1667 #kohm\n",
        "c1 = 0.65 #nF\n",
        "Rf = 14.972 #kohm\n",
        "\n",
        "#frequenza di taglio teorica con la formula classica\n",
        "f_t = 1/ (2*math.pi*R1*(10**3)*c1*(10**-9))\n",
        "print(\"frequenza di taglio [Hz] \\n\", f_t)\n",
        "print(\"\\n\", R1*(10**3)*c1*(10**-9))"
      ],
      "metadata": {
        "id": "dNgI62cC0TCs",
        "colab": {
          "base_uri": "https://localhost:8080/"
        },
        "outputId": "5937fdc1-6b72-46a7-8546-c01b76641263"
      },
      "execution_count": null,
      "outputs": [
        {
          "output_type": "stream",
          "name": "stdout",
          "text": [
            "frequenza di taglio [Hz] \n",
            " 29981.970514763107\n",
            "\n",
            " 5.308355000000001e-06\n"
          ]
        }
      ]
    },
    {
      "cell_type": "code",
      "source": [
        "frequenza_khz = [0.1, 0.215, 0.464, 1, 2.15, 4.64, 10, 21.5, 46.4, 100, 215, 464, 1000, 18.5, 18.8, 19.1, 19.4, 18.2]\n",
        "v_in = [1.03, 1.04, 1.01, 1.01, 1.01, 1.01, 0.992, 1, 1, 1.03, 1, 1.02, 1.02, 1, 1, 1, 1, 1]\n",
        "v_out = [0.02, 0.02, 0.02, 0.061, 0.132, 0.276, 0.564, 1.06, 1.56, 1.8, 1.88, 1.88, 1.52, 0.944, 0.952, 0.96, 0.976, 0.928 ]\n",
        "v_in_div = [0.2, 0.2, 0.2, 0.2, 0.2, 0.2, 0.2, 0.2, 0.2, 0.2, 0.2, 0.2, 0.2, 0.2, 0.2, 0.2, 0.2, 0.2]\n",
        "v_out_div = [0.2, 0.5, 0.5, 0.02, 0.02, 0.05, 0.1, 0.2, 0.5, 0.5, 0.5, 0.5, 0.5, 0.2, 0.2, 0.2, 0.2, 0.2]"
      ],
      "metadata": {
        "id": "MCjjIjqRzP_Y"
      },
      "execution_count": null,
      "outputs": []
    },
    {
      "cell_type": "code",
      "source": [
        "A = []\n",
        "log_A = []\n",
        "err_A = []\n",
        "err_log_A = []\n",
        "frequenza_hz = []\n",
        "\n",
        "for i in range(len(v_in)):\n",
        "  dummy=0\n",
        "  dummy = v_out[i]/v_in[i]\n",
        "  A.append(dummy)\n",
        "\n",
        "for i in A:\n",
        "  dummy = 0\n",
        "  dummy =  10*math.log10(i)\n",
        "  log_A.append(dummy)\n",
        "\n",
        "for i in frequenza_khz:\n",
        "  dummy = 0\n",
        "  dummy = i*1000\n",
        "  frequenza_hz.append(dummy)\n",
        "\n",
        "#calcolo degli errori\n",
        "for i in range(len(v_in)):\n",
        "  dummy_err_vout = math.sqrt( ((1/10)*v_out_div[i])**2 + ((3/100)*v_out[i])**2)\n",
        "  #print(dummy_err_vout, \"err_vout\" ,\"\")\n",
        "  dummy_err_vin = math.sqrt( ((1/10)*v_in_div[i])**2 + ((3/100)*v_in[i])**2 )\n",
        "  #print(dummy_err_vin, \"err_vin\" ,\"\")\n",
        "  dummy_g = v_out[i]/v_in[i]\n",
        "  #print(dummy_g, \"g\" ,\"\")\n",
        "  dummy_err_g = dummy_g * math.sqrt( (dummy_err_vout/v_out[i])**2 + (dummy_err_vin/v_in[i])**2 )\n",
        "  #print(dummy_err_g, \"err_g\" ,\"\")\n",
        "  dummy_err_A = 10*(dummy_err_g / (dummy_g*math.log(10)))\n",
        "  err_log_A.append(dummy_err_A)\n",
        "  #print(dummy_err_A)\n",
        "  #print(\"-----------------------------\")"
      ],
      "metadata": {
        "id": "4mfl34HBzbUk"
      },
      "execution_count": null,
      "outputs": []
    },
    {
      "cell_type": "code",
      "source": [
        "plt.figure(figsize=(12,7))\n",
        "plt.errorbar(frequenza_hz, log_A, linestyle=\"\", marker=\".\", yerr=err_log_A)\n",
        "plt.xscale(\"log\", base=10)\n",
        "#plt.axvline(x=20000, ymin=0.1, ymax=0.9)\n",
        "plt.title(\"Bode\")\n",
        "plt.xlabel(\"$f \\\\ [Hz]$\")\n",
        "plt.ylabel(\"$A \\\\ [db]$\")\n",
        "plt.grid()"
      ],
      "metadata": {
        "colab": {
          "base_uri": "https://localhost:8080/",
          "height": 421
        },
        "id": "Y9dDAfSe6UVH",
        "outputId": "e1b7dffe-6a82-4661-9203-092b9da54ac5"
      },
      "execution_count": null,
      "outputs": [
        {
          "output_type": "display_data",
          "data": {
            "text/plain": [
              "<Figure size 1200x700 with 1 Axes>"
            ],
            "image/png": "[encoded data removed]"
          },
          "metadata": {}
        }
      ]
    },
    {
      "cell_type": "markdown",
      "source": [
        "Modifica dell'analisi, utilizzo di $\\omega$,  e $dB$ con fattore 20\n",
        "\n",
        "a quanto pare, come era possibile prevedere, il passaggio ad omega non ha effetto sulla forma del grafico, è un semplice fattore di strech sulle $x$"
      ],
      "metadata": {
        "id": "cX7-t0_VeANg"
      }
    },
    {
      "cell_type": "code",
      "source": [
        "A = []\n",
        "log_A = []\n",
        "err_A = []\n",
        "err_log_A = []\n",
        "frequenza_hz = []\n",
        "\n",
        "for i in range(len(v_in)):\n",
        "  dummy=0\n",
        "  dummy = v_out[i]/v_in[i]\n",
        "  A.append(dummy)\n",
        "\n",
        "for i in A:\n",
        "  dummy = 0\n",
        "  dummy =  20*math.log10(i)\n",
        "  log_A.append(dummy)\n",
        "\n",
        "for i in frequenza_khz: #aggiungiamo il fattore di conversione per passare a omega\n",
        "  dummy = 0\n",
        "  dummy = i*1000*2*math.pi\n",
        "  frequenza_hz.append(dummy)\n",
        "\n",
        "#calcolo degli errori\n",
        "for i in range(len(v_in)):\n",
        "  dummy_err_vout = math.sqrt( ((1/10)*v_out_div[i])**2 + ((3/100)*v_out[i])**2)\n",
        "  #print(dummy_err_vout, \"err_vout\" ,\"\")\n",
        "  dummy_err_vin = math.sqrt( ((1/10)*v_in_div[i])**2 + ((3/100)*v_in[i])**2 )\n",
        "  #print(dummy_err_vin, \"err_vin\" ,\"\")\n",
        "  dummy_g = v_out[i]/v_in[i]\n",
        "  #print(dummy_g, \"g\" ,\"\")\n",
        "  dummy_err_g = dummy_g * math.sqrt( (dummy_err_vout/v_out[i])**2 + (dummy_err_vin/v_in[i])**2 )\n",
        "  #print(dummy_err_g, \"err_g\" ,\"\")\n",
        "  dummy_err_A = 20*(dummy_err_g / (dummy_g*math.log(20)))\n",
        "  err_log_A.append(dummy_err_A)\n",
        "  #print(dummy_err_A)\n",
        "  #print(\"-----------------------------\")"
      ],
      "metadata": {
        "id": "HtXtKhiBeFJQ"
      },
      "execution_count": null,
      "outputs": []
    },
    {
      "cell_type": "code",
      "source": [
        "plt.figure(figsize=(12,7))\n",
        "plt.errorbar(frequenza_hz, log_A, linestyle=\"\", marker=\".\", yerr=err_log_A)\n",
        "plt.xscale(\"log\", base=10)\n",
        "#plt.axvline(x=20000, ymin=0.1, ymax=0.9)\n",
        "plt.title(\"Bode\")\n",
        "plt.xlabel(\"$\\omega$\")\n",
        "plt.ylabel(\"$A \\\\ [db]$\")\n",
        "plt.grid()"
      ],
      "metadata": {
        "colab": {
          "base_uri": "https://localhost:8080/",
          "height": 637
        },
        "id": "AhSnj25SeFaO",
        "outputId": "2cbccbf0-982f-4f67-be11-ea9b42b7c139"
      },
      "execution_count": null,
      "outputs": [
        {
          "output_type": "display_data",
          "data": {
            "text/plain": [
              "<Figure size 1200x700 with 1 Axes>"
            ],
            "image/png": "[encoded data removed]"
          },
          "metadata": {}
        }
      ]
    },
    {
      "cell_type": "markdown",
      "source": [
        "Supponendo di aver capito la teoria, vediamo che nelle slide l'ampiezza della funzione di trasferimento è data come $\\omega*R*C$ possiamo provare a fare un fit lineare eliminando i primi 2 punti e gli ultimi 5+4 del grafico\n",
        "\n",
        "da [questo documento pagina 30](https://www.google.com/url?sa=t&rct=j&q=&esrc=s&source=web&cd=&cad=rja&uact=8&ved=2ahUKEwiDla7Rrq2CAxUNSPEDHdFEDkkQFnoECBYQAQ&url=https%3A%2F%2Fwww.roma1.infn.it%2F~luci%2FLabSS%2Fopamp.pdf&usg=AOvVaw1n4KBA59kd4EzR6XL2C1BE&opi=89978449) (PDF da scaricare) possiamo ipotizzare che la forma tondeggiante della parte superiore del grafico sia data dal fatto che l'amplificatore è reale, la parte inferiore non ha ancora spiegazione\n"
      ],
      "metadata": {
        "id": "fVdFSZWihVuR"
      }
    },
    {
      "cell_type": "code",
      "source": [
        "frequenza_khz = [ 0.464, 1, 2.15, 4.64, 10, 21.5, 46.4]\n",
        "v_in = [ 1.01, 1.01, 1.01, 1.01, 0.992, 1, 1]\n",
        "v_out = [ 0.02, 0.061, 0.132, 0.276, 0.564, 1.06, 1.56 ]\n",
        "v_in_div = [ 0.2, 0.2, 0.2, 0.2, 0.2, 0.2, 0.2]\n",
        "v_out_div = [0.5, 0.02, 0.02, 0.05, 0.1, 0.2, 0.5]\n",
        "\n",
        "A = []\n",
        "log_A = []\n",
        "err_A = []\n",
        "err_log_A = []\n",
        "frequenza_hz = []\n",
        "\n",
        "for i in range(len(v_in)):\n",
        "  dummy=0\n",
        "  dummy = v_out[i]/v_in[i]\n",
        "  A.append(dummy)\n",
        "\n",
        "for i in A:\n",
        "  dummy = 0\n",
        "  dummy =  20*math.log10(i)\n",
        "  log_A.append(dummy)\n",
        "\n",
        "for i in frequenza_khz: #aggiungiamo il fattore di conversione per passare a omega\n",
        "  dummy = 0\n",
        "  dummy = i*1000*2*math.pi\n",
        "  frequenza_hz.append(dummy)\n",
        "\n",
        "#calcolo degli errori\n",
        "for i in range(len(v_in)):\n",
        "  dummy_err_vout = math.sqrt( ((1/10)*v_out_div[i])**2 + ((3/100)*v_out[i])**2)\n",
        "  dummy_err_vin = math.sqrt( ((1/10)*v_in_div[i])**2 + ((3/100)*v_in[i])**2 )\n",
        "  dummy_g = v_out[i]/v_in[i]\n",
        "  dummy_err_g = dummy_g * math.sqrt( (dummy_err_vout/v_out[i])**2 + (dummy_err_vin/v_in[i])**2 )\n",
        "  dummy_err_A = 20*(dummy_err_g / (dummy_g*math.log(20)))\n",
        "  err_log_A.append(dummy_err_A)\n",
        "\n",
        "#plt.figure(figsize=(12,7))\n",
        "plt.errorbar(frequenza_hz, log_A, linestyle=\"\", marker=\".\", yerr=err_log_A)\n",
        "#plt.axvline(x=20000, ymin=0.1, ymax=0.9)\n",
        "plt.title(\"Bode\")\n",
        "plt.xlabel(\"$\\omega$\")\n",
        "plt.ylabel(\"$A \\\\ [db]$\")\n",
        "plt.grid()\n",
        "plt.plot( np.linspace(2500,400000,10000) , retta_fit_xba(  np.log10( np.linspace(2500,400000,10000) ) , 7.552351246594405, -89.41187925789427) , marker=\"\", linestyle=\":\", label=\"fit\")\n",
        "#retta_fit_xba(x, b,a)\n",
        "plt.xscale(\"log\", base=10)\n",
        "plt.legend()"
      ],
      "metadata": {
        "colab": {
          "base_uri": "https://localhost:8080/",
          "height": 493
        },
        "id": "S0jXLlonhVYV",
        "outputId": "162a398a-2a27-49fa-fbda-52fc661f8c72"
      },
      "execution_count": null,
      "outputs": [
        {
          "output_type": "execute_result",
          "data": {
            "text/plain": [
              "<matplotlib.legend.Legend at 0x7c4379cb8670>"
            ]
          },
          "metadata": {},
          "execution_count": 62
        },
        {
          "output_type": "display_data",
          "data": {
            "text/plain": [
              "<Figure size 640x480 with 1 Axes>"
            ],
            "image/png": "[encoded data removed]"
          },
          "metadata": {}
        }
      ]
    },
    {
      "cell_type": "markdown",
      "source": [
        "l'intervallo estratto sembra essere lineare, procediamo ad un fit lineare"
      ],
      "metadata": {
        "id": "V-_JmqSnjPL6"
      }
    },
    {
      "cell_type": "code",
      "source": [
        "regrlin_pear_errpost_xys( np.log(frequenza_hz) , log_A, err_log_A)"
      ],
      "metadata": {
        "colab": {
          "base_uri": "https://localhost:8080/"
        },
        "id": "i2luE4xtjOxC",
        "outputId": "f0cfcc7e-4bb5-4869-b110-b71268e12ceb"
      },
      "execution_count": null,
      "outputs": [
        {
          "output_type": "stream",
          "name": "stdout",
          "text": [
            "pendenza $b$\t 7.552351246594405\n",
            "$\\sigma_b$\t 0.11364022698268841\n",
            "intercetta $a$\t -89.41187925789427\n",
            "$\\sigma_a$\t 1.2191645905886581\n",
            "Coefficiente di Pearson $\\rho_{xy}$\t 0.9916846594329503\n",
            "$\\sigma_{\\rho_{xy}}$\t 0.05755264762867735\n",
            "Errore a posteriori $\\delta$\t 2.4521265421738883\n"
          ]
        }
      ]
    },
    {
      "cell_type": "markdown",
      "source": [
        "se $RC = b$ allora il valore della frequenza di taglio possiamo calcolarlo come\n",
        "\n",
        "$f_t = \\frac{1}{2b\\pi}$\n",
        "\n",
        "dato che $\\omega = f_t*2\\pi$\n",
        "\n",
        "Considerando che abbiamo eseguito un fit in uno spazio logarimico credo sia naturale delogaritmizzare il parametro b prima di procedere con la computazione"
      ],
      "metadata": {
        "id": "t5apkk2XjuMZ"
      }
    },
    {
      "cell_type": "code",
      "source": [
        "f_t_bode = 1 / ( 2*math.pi*( 1*(7.552351246594405) ) )\n",
        "print(f_t_bode)"
      ],
      "metadata": {
        "colab": {
          "base_uri": "https://localhost:8080/"
        },
        "id": "8IvpeDzRkNLw",
        "outputId": "8a5cd4f1-b4b9-448d-b223-589730f3040d"
      },
      "execution_count": 4,
      "outputs": [
        {
          "output_type": "stream",
          "name": "stdout",
          "text": [
            "0.021073562112681576\n"
          ]
        }
      ]
    },
    {
      "cell_type": "markdown",
      "source": [
        "Il modello lineare non ha portato alla solizione desiderata, procediamo quindi al fit, sempre rimuovenmmdo i primi due punti che fuoriescono dal modello presentato nel documento citato sopra, con la seguente funzione\n",
        "\n",
        "$ A = \\frac{R_f}{R_1 + \\frac{1}{j\\omega C}} $"
      ],
      "metadata": {
        "id": "agpFiR_fq6O6"
      }
    },
    {
      "cell_type": "code",
      "source": [
        "def model_function(x, rf, c):\n",
        "  return rf / (8166.7 + ( 1/ (x*c) ) )"
      ],
      "metadata": {
        "id": "XL9z1KOKq5gW"
      },
      "execution_count": null,
      "outputs": []
    },
    {
      "cell_type": "code",
      "source": [
        "frequenza_khz = [ 0.464, 1, 2.15, 4.64, 10, 21.5, 46.4, 100, 215, 464, 1000, 18.5, 18.8, 19.1, 19.4, 18.2]\n",
        "v_in = [ 1.01, 1.01, 1.01, 1.01, 0.992, 1, 1, 1.03, 1, 1.02, 1.02, 1, 1, 1, 1, 1]\n",
        "v_out = [ 0.02, 0.061, 0.132, 0.276, 0.564, 1.06, 1.56, 1.8, 1.88, 1.88, 1.52, 0.944, 0.952, 0.96, 0.976, 0.928 ]\n",
        "v_in_div = [ 0.2, 0.2, 0.2, 0.2, 0.2, 0.2, 0.2, 0.2, 0.2, 0.2, 0.2, 0.2, 0.2, 0.2, 0.2, 0.2]\n",
        "v_out_div = [ 0.5, 0.02, 0.02, 0.05, 0.1, 0.2, 0.5, 0.5, 0.5, 0.5, 0.5, 0.2, 0.2, 0.2, 0.2, 0.2]\n",
        "\n",
        "A = []\n",
        "log_A = []\n",
        "err_A = []\n",
        "err_log_A = []\n",
        "frequenza_hz = []\n",
        "\n",
        "for i in range(len(v_in)):\n",
        "  dummy=0\n",
        "  dummy = v_out[i]/v_in[i]\n",
        "  A.append(dummy)\n",
        "\n",
        "for i in A:\n",
        "  dummy = 0\n",
        "  dummy =  20*math.log10(i)\n",
        "  log_A.append(dummy)\n",
        "\n",
        "for i in frequenza_khz: #aggiungiamo il fattore di conversione per passare a omega\n",
        "  dummy = 0\n",
        "  dummy = i*1000*2*math.pi\n",
        "  frequenza_hz.append(dummy)\n",
        "\n",
        "#calcolo degli errori\n",
        "for i in range(len(v_in)):\n",
        "  dummy_err_vout = math.sqrt( ((1/10)*v_out_div[i])**2 + ((3/100)*v_out[i])**2)\n",
        "  dummy_err_vin = math.sqrt( ((1/10)*v_in_div[i])**2 + ((3/100)*v_in[i])**2 )\n",
        "  dummy_g = v_out[i]/v_in[i]\n",
        "  dummy_err_g = dummy_g * math.sqrt( (dummy_err_vout/v_out[i])**2 + (dummy_err_vin/v_in[i])**2 )\n",
        "  dummy_err_A = 20*(dummy_err_g / (dummy_g*math.log(20)))\n",
        "  err_log_A.append(dummy_err_A)\n",
        "\n",
        "#plt.figure(figsize=(12,7))\n",
        "plt.errorbar(frequenza_hz, log_A, linestyle=\"\", marker=\".\", yerr=err_log_A)\n",
        "#plt.axvline(x=20000, ymin=0.1, ymax=0.9)\n",
        "plt.title(\"Bode\")\n",
        "plt.xlabel(\"$\\omega$\")\n",
        "plt.ylabel(\"$A \\\\ [db]$\")\n",
        "plt.grid()\n",
        "plt.xscale(\"log\", base=10)\n",
        "plt.plot(np.linspace(2500,4000000,1000000), model_function(np.linspace(2500,4000000,1000000), -2.12661946e+04, 1.00000000e+00), marker=\"\", linestyle=\":\", label=\"fit\")\n",
        "plt.legend()"
      ],
      "metadata": {
        "colab": {
          "base_uri": "https://localhost:8080/",
          "height": 493
        },
        "id": "9_lGe3TpsW4I",
        "outputId": "9c6fc5c7-0d15-41c2-ced0-c352d621d6bf"
      },
      "execution_count": null,
      "outputs": [
        {
          "output_type": "execute_result",
          "data": {
            "text/plain": [
              "<matplotlib.legend.Legend at 0x7c437c1500a0>"
            ]
          },
          "metadata": {},
          "execution_count": 33
        },
        {
          "output_type": "display_data",
          "data": {
            "text/plain": [
              "<Figure size 640x480 with 1 Axes>"
            ],
            "image/png": "[encoded data removed]"
          },
          "metadata": {}
        }
      ]
    },
    {
      "cell_type": "code",
      "source": [
        "param, matrixcov = curve_fit(model_function, frequenza_hz, log_A, sigma=err_log_A)\n",
        "\n",
        "print(\"rf, c\")\n",
        "print(param)\n",
        "print(matrixcov)"
      ],
      "metadata": {
        "colab": {
          "base_uri": "https://localhost:8080/"
        },
        "id": "5OPr4FdRswmu",
        "outputId": "7de25010-1cd7-427e-e77c-379374604e0d"
      },
      "execution_count": null,
      "outputs": [
        {
          "output_type": "stream",
          "name": "stdout",
          "text": [
            "rf, c\n",
            "[-2.12661946e+04  1.00000000e+00]\n",
            "[[inf inf]\n",
            " [inf inf]]\n"
          ]
        },
        {
          "output_type": "stream",
          "name": "stderr",
          "text": [
            "/usr/local/lib/python3.10/dist-packages/scipy/optimize/_minpack_py.py:1010: OptimizeWarning: Covariance of the parameters could not be estimated\n",
            "  warnings.warn('Covariance of the parameters could not be estimated',\n"
          ]
        }
      ]
    },
    {
      "cell_type": "markdown",
      "source": [
        "e questo risultato risulta più inconcludente del precedente, r1 come parametro fisso è stato inserito dopo un trial con r1 variabile dal fit, i risultati sono rimasti inconcludenti"
      ],
      "metadata": {
        "id": "vR2MWn3hy0Lh"
      }
    }
  ]
}