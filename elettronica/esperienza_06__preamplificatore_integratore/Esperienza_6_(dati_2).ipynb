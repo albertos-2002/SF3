{
  "nbformat": 4,
  "nbformat_minor": 0,
  "metadata": {
    "colab": {
      "provenance": [],
      "collapsed_sections": [
        "qp1WengqZtOv",
        "v9j_yyA_Z3YY",
        "hzMXjAiOZ3RA",
        "otDZ68_TZ3Lj",
        "1HZnl4whaMOE",
        "RoQGC2HmaWGV",
        "yRUA_3zMaWGg",
        "GW-2IjNKaWGg",
        "2eLLVy3NaWGh",
        "4rztS-RPcAcB"
      ],
      "authorship_tag": "ABX9TyPenCHMQE+POd/ijvuypXNJ",
      "include_colab_link": true
    },
    "kernelspec": {
      "name": "python3",
      "display_name": "Python 3"
    },
    "language_info": {
      "name": "python"
    }
  },
  "cells": [
    {
      "cell_type": "markdown",
      "metadata": {
        "id": "view-in-github",
        "colab_type": "text"
      },
      "source": [
        "<a href=\"https://colab.research.google.com/github/albertos-2002/SF3/blob/main/elettronica/esperienza_06__preamplificatore_integratore/Esperienza_6_(dati_2).ipynb\" target=\"_parent\"><img src=\"https://colab.research.google.com/assets/colab-badge.svg\" alt=\"Open In Colab\"/></a>"
      ]
    },
    {
      "cell_type": "markdown",
      "source": [
        "regrlin_pear_errpost_xys(input_x, input_y, input_sigma)\n",
        "\n",
        "retta_fit_xba(x, b,a)\n",
        "\n",
        "chi_quadro_lineare(y_vec, x_vec, sigma_vec, inte, pend, stringa_ytitle, stringa_xtitle, stringa_titolo)"
      ],
      "metadata": {
        "id": "dZceT-_GriKA"
      }
    },
    {
      "cell_type": "markdown",
      "source": [
        "#Dati"
      ],
      "metadata": {
        "id": "H61xmFiVWY_y"
      }
    },
    {
      "cell_type": "markdown",
      "source": [
        "Valori teorici assegnati al gruppo 27\n",
        "\n",
        "$R_{in} =  47 \\ K\\Omega$\n",
        "\n",
        "$C_f = 330 \\ \\ pF$\n",
        "\n",
        "$R_f =  560\\ K\\Omega$\n",
        "\n",
        "$C_{shap} = 150 \\ \\ pF$\n",
        "\n",
        "$R_{shap} = 100\\ K\\Omega$"
      ],
      "metadata": {
        "id": "WoscYg9pRPRk"
      }
    },
    {
      "cell_type": "markdown",
      "source": [
        "Valori misurati con il Metrix\n",
        "\n",
        "$R_{in} =  46.600 \\ K\\Omega, \\ \\ \\ scala \\ 100 \\ K\\Omega$\n",
        "\n",
        "$C_f = 341 \\ \\ pF, \\ \\ \\ scala \\ 1 \\ nF$ con 25 pF di fondo\n",
        "\n",
        "$R_f =  559.10\\ K\\Omega, \\ \\ \\ scala \\ 1 \\ M\\Omega$\n",
        "\n",
        "Oscilloscopio $17$"
      ],
      "metadata": {
        "id": "Z6TjUfIwZARW"
      }
    },
    {
      "cell_type": "code",
      "source": [
        "r_in = 46.600 #kohm\n",
        "c_f = 341 - 25  #pF\n",
        "r_f = 559.10 #kohm\n",
        "print(\"err r_in :\",  math.sqrt(1/3)* math.sqrt( (r_in*0.07/100)**2 + (0.008)**2 ) , \"kohm\")         #ipotesi uniforme\n",
        "print(\"err r_f  :\" , math.sqrt(1/3)* math.sqrt( (r_f*0.07/100)**2 + (0.008)**2 ) , \"kohm\")\n",
        "print(\"err c_f  :\",  math.sqrt(1/3)* math.sqrt( (c_f*2.5/100)**2 + (15)**2 ) , \"pf\")\n",
        "err_r_in = math.sqrt(1/3)* math.sqrt( (r_in*0.07/100)**2 + (0.008)**2 ) #kohm\n",
        "err_r_f = math.sqrt(1/3)* math.sqrt( (r_f*0.07/100)**2 + (0.008)**2 )\n",
        "err_c_f = math.sqrt(1/3)* math.sqrt( (c_f*2.5/100)**2 + (15)**2 )\n",
        "\n",
        "print(\"errori relativi (ordine come sopra)\")\n",
        "print( err_r_in/r_in )\n",
        "print( err_r_f/r_f )\n",
        "print( err_c_f/c_f )"
      ],
      "metadata": {
        "id": "giYG5Ty9bu8H",
        "colab": {
          "base_uri": "https://localhost:8080/"
        },
        "outputId": "e7bd92c8-6949-4376-f32c-8be8b2c97d85"
      },
      "execution_count": 7,
      "outputs": [
        {
          "output_type": "stream",
          "name": "stdout",
          "text": [
            "err r_in : 0.01939127295116715 kohm\n",
            "err r_f  : 0.22600477642445232 kohm\n",
            "err c_f  : 9.787917722035333 pf\n",
            "errori relativi (ordine come sopra)\n",
            "0.00041612173714950966\n",
            "0.0004042296126354003\n",
            "0.03097442317099789\n"
          ]
        }
      ]
    },
    {
      "cell_type": "markdown",
      "source": [
        "\n",
        "\n",
        "---\n",
        "\n"
      ],
      "metadata": {
        "id": "tRVqu9zQZsW4"
      }
    },
    {
      "cell_type": "markdown",
      "source": [
        "## 🟠 **Generatore di impulsi di corrente**"
      ],
      "metadata": {
        "id": "qp1WengqZtOv"
      }
    },
    {
      "cell_type": "markdown",
      "source": [
        "Funzione : pulse su $CH1$\n",
        "\n",
        "Frequenza : $200 \\ Hz$\n",
        "\n",
        "High : $0 \\ V$\n",
        "\n",
        "Low : $-1 \\ V$\n",
        "\n",
        "Tempo impulso : $5 \\ \\mu s$\n",
        "\n",
        "Duty cycle : $99.9\\%$"
      ],
      "metadata": {
        "id": "bMnyb4d3adz6"
      }
    },
    {
      "cell_type": "markdown",
      "source": [
        "*No image*"
      ],
      "metadata": {
        "id": "u2XCvYzdoNF4"
      }
    },
    {
      "cell_type": "markdown",
      "source": [
        "\n",
        "\n",
        "---\n",
        "\n"
      ],
      "metadata": {
        "id": "mjk9yyNUZ2Rl"
      }
    },
    {
      "cell_type": "markdown",
      "source": [
        "## ❌ **Preamplificatore di carica**"
      ],
      "metadata": {
        "id": "v9j_yyA_Z3YY"
      }
    },
    {
      "cell_type": "code",
      "source": [
        "#dati"
      ],
      "metadata": {
        "id": "dE2_ExkALebD"
      },
      "execution_count": null,
      "outputs": []
    },
    {
      "cell_type": "markdown",
      "source": [
        "\n",
        "\n",
        "---\n",
        "\n"
      ],
      "metadata": {
        "id": "BlaLicEnZ3Tr"
      }
    },
    {
      "cell_type": "markdown",
      "source": [
        "## 🟢 **Verifica della linearità del preamplificatore**"
      ],
      "metadata": {
        "id": "hzMXjAiOZ3RA"
      }
    },
    {
      "cell_type": "code",
      "source": [
        "delta_v_vl = [0.1428 , 0.282 , 0.408 , 0.544 , 0.672 ] #V\n",
        "t_gen_vl = [2, 4, 6, 8, 10] #us\n",
        "#v su div \"ragionevoli\"\n",
        "v_div_vl = [0.02 , 0.05 , 0.1 , 0.1 , 0.1 ] #V"
      ],
      "metadata": {
        "id": "2yXCg5FEZZQ6"
      },
      "execution_count": 8,
      "outputs": []
    },
    {
      "cell_type": "markdown",
      "source": [
        "![integrazione.png](data:image/png;base64,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)"
      ],
      "metadata": {
        "id": "8y1zkt7Tqax_"
      }
    },
    {
      "cell_type": "markdown",
      "source": [
        "\n",
        "\n",
        "---\n",
        "\n"
      ],
      "metadata": {
        "id": "3MXXTlSAZ3Oh"
      }
    },
    {
      "cell_type": "markdown",
      "source": [
        "## 🟢 **Tempo caratteristico**"
      ],
      "metadata": {
        "id": "otDZ68_TZ3Lj"
      }
    },
    {
      "cell_type": "code",
      "source": [
        "t_offset_tc = 5 #us\n",
        "V_out_tc = [ 0.275, 0.204, 0.172, 0.148, 0.124, 0.100, 0.078, 0.062, 0.050 ] #V\n",
        "t_tc = [ 36, 86, 114, 138, 166, 202, 242, 276, 310 ] #us\n",
        "v_su_div_tc = 0.05 #V\n",
        "t_su_div_tc = 50 #micros"
      ],
      "metadata": {
        "id": "YJOsgeRonabO"
      },
      "execution_count": 9,
      "outputs": []
    },
    {
      "cell_type": "markdown",
      "source": [
        "Visualizzazione del tao"
      ],
      "metadata": {
        "id": "_SaNzibwrnfs"
      }
    },
    {
      "cell_type": "markdown",
      "source": [
        "![tempocaratteristico_tao.png](data:image/png;base64,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)"
      ],
      "metadata": {
        "id": "mchTeCghrnVd"
      }
    },
    {
      "cell_type": "markdown",
      "source": [
        "Verifica della compatibilità della scarica con 0 dopo 10 tau\n"
      ],
      "metadata": {
        "id": "yEbrGJZqrnPb"
      }
    },
    {
      "cell_type": "markdown",
      "source": [
        "![compatibilitascaricazero.png](data:image/png;base64,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)"
      ],
      "metadata": {
        "id": "MDJ_k-FmrnJR"
      }
    },
    {
      "cell_type": "markdown",
      "source": [
        "\n",
        "\n",
        "---\n",
        "\n"
      ],
      "metadata": {
        "id": "kHTbI4jeaMQY"
      }
    },
    {
      "cell_type": "markdown",
      "source": [
        "## 🟢 **Risposta in frequenza**"
      ],
      "metadata": {
        "id": "1HZnl4whaMOE"
      }
    },
    {
      "cell_type": "markdown",
      "source": [
        "Realizzare un grafico di Bode per frequenza comprese tra $10 \\ Hz$  e  $1-2 \\ MHz$"
      ],
      "metadata": {
        "id": "lkUcaCzazRLP"
      }
    },
    {
      "cell_type": "code",
      "source": [
        "freq_b =   [ 0.01, 0.0215, 0.0464, 0.1, 0.215, 0.464, 1, 2.15, 4.64, 10, 21.5, 46.4, 100, 215, 464 ] #khz\n",
        "v_in_b = \t\t  [ 1.01, 1.01, 1.01, 1.01, 1.01, 1.01, 1.01, 1.00, 1.02, 1.02, 1.02, 1.02, 1.02, 1.02, 1.00  ] #volt\n",
        "v_out_b =  [ 12.0, 12.0, 12.0, 12.0, 11.6, 10.6, 8.00, 4.68, 2.32, 1.11, 0.520, 0.250, 0.117, 0.056, 0.0272 ] #volt\n",
        "v_su_div_in_b =  [ 0.2,  0.2, 0.2, 0.2, 0.2, 0.2, 0.2, 0.2, 0.2, 0.2, 0.2, 0.2, 0.2, 0.2 , 0.2 ] #volt\n",
        "v_su_div_out_b = [ 2, 2, 2, 2, 2, 2, 2, 1, 0.5, 0.2, 0.1, 0.05, 0.02, 0.02, 0.02 ] #volt"
      ],
      "metadata": {
        "id": "ufxUVadPzRkb"
      },
      "execution_count": 29,
      "outputs": []
    },
    {
      "cell_type": "markdown",
      "source": [
        "#Analisi"
      ],
      "metadata": {
        "id": "65zuB-KTZ3Hv"
      }
    },
    {
      "cell_type": "markdown",
      "source": [
        "## ✅ **Generatore di impulsi di corrente**"
      ],
      "metadata": {
        "id": "RoQGC2HmaWGV"
      }
    },
    {
      "cell_type": "markdown",
      "source": [
        "Calcolo della carica prevista in arrivo sull amp\n",
        "\n",
        "(utilizziamo la corrente che passa dopo $R_1$)"
      ],
      "metadata": {
        "id": "mMhsPkiuTmct"
      }
    },
    {
      "cell_type": "code",
      "source": [
        "#carica totale dopo r_in\n",
        "print(((1/(r_in*1000))*(5/1000000)*1000000000000), \"$[pC]$\")\n",
        "dummyc1 = (1/(r_in*1000))*(5/1000000)*1000000000000\n",
        "\n",
        "print( ((1/(r_in*1000))*(5/1000000)*1000000000000) * (err_r_in/r_in) )\n",
        "dummyc2 = ((1/(r_in*1000))*(5/1000000)*1000000000000) * (err_r_in/r_in)\n",
        "\n",
        "print(\"errore relativo percentuale\\n\", 100*dummyc2/dummyc1)"
      ],
      "metadata": {
        "colab": {
          "base_uri": "https://localhost:8080/"
        },
        "id": "qDCKd_PGVhWs",
        "outputId": "b7050808-c150-4457-baee-458b4711ac9d"
      },
      "execution_count": 10,
      "outputs": [
        {
          "output_type": "stream",
          "name": "stdout",
          "text": [
            "107.2961373390558 $[pC]$\n",
            "0.044648255058960265\n",
            "errore relativo percentuale\n",
            " 0.04161217371495096\n"
          ]
        }
      ]
    },
    {
      "cell_type": "code",
      "source": [
        "#carica sul solo condensatore\n",
        "print( c_f*0.3347851085805332 , \" pC \")\n",
        "print(\"err\")\n",
        "print( (c_f*0.3347851085805332)* math.sqrt( (err_c_f/c_f )**2 + (0.0034236625432421206 / 0.3347851085805332)**2 ) )\n",
        "print(\"errore relativo\\n\", ( (c_f*0.3347851085805332)* math.sqrt( (err_c_f/c_f )**2 + (0.0034236625432421206 / 0.3347851085805332)**2 ) ) / ( c_f*0.3347851085805332 ))"
      ],
      "metadata": {
        "colab": {
          "base_uri": "https://localhost:8080/"
        },
        "id": "umOXLj_cR-r-",
        "outputId": "df0b0600-d9b6-49e2-c641-a6946416b631"
      },
      "execution_count": 13,
      "outputs": [
        {
          "output_type": "stream",
          "name": "stdout",
          "text": [
            "105.79209431144848  pC \n",
            "err\n",
            "3.4508257905617508\n",
            "errore relativo\n",
            " 0.03261893823939842\n"
          ]
        }
      ]
    },
    {
      "cell_type": "markdown",
      "source": [
        "Calcolo dell'altezza prevista del segnale"
      ],
      "metadata": {
        "id": "pWS59xJbGlR1"
      }
    },
    {
      "cell_type": "code",
      "source": [],
      "metadata": {
        "id": "vW70RaA2GpJW"
      },
      "execution_count": null,
      "outputs": []
    },
    {
      "cell_type": "markdown",
      "source": [
        "\n",
        "\n",
        "---\n",
        "\n"
      ],
      "metadata": {
        "id": "LhO9cJqoaWGg"
      }
    },
    {
      "cell_type": "markdown",
      "source": [
        "## 🟠 **Preamplificatore di carica**"
      ],
      "metadata": {
        "id": "yRUA_3zMaWGg"
      }
    },
    {
      "cell_type": "markdown",
      "source": [
        "Il tempo caratteristico del circuito è dato dalla seguente formula:\n",
        "\n",
        "$\\tau = R_f * C_f$\n",
        "\n",
        "L'andamento del potenziale è invece descritto dalla seguente formula (dalle slide):\n",
        "\n",
        "$ V_{out} = \\frac{-R_f}{R_{in}}*( 1 - e^{\\frac{-t}{\\tau}})*V_{in} $\n",
        "\n",
        "deriva dalla semplificaizone (applicazione al nostro caso sperimentale) della funzione di trasferimento in funzione del tempo"
      ],
      "metadata": {
        "id": "4pxF_KcKcnpN"
      }
    },
    {
      "cell_type": "code",
      "source": [
        "#calcolo di tau teorico\n",
        "\n",
        "tau_teorico = r_f * c_f *1000 / 1000000000000\n",
        "err_tau_teorico = tau_teorico * math.sqrt( ( err_c_f /c_f )**2 + ( err_r_f /r_f )**2 )\n",
        "print(tau_teorico, \"[s]\")\n",
        "print(err_tau_teorico, \"[s]\")\n",
        "\n",
        "print(\"errore relativo percentuale\\n\", 100*err_tau_teorico/tau_teorico)"
      ],
      "metadata": {
        "colab": {
          "base_uri": "https://localhost:8080/"
        },
        "id": "rRS_EKDacoFp",
        "outputId": "42a09b95-bac0-4de8-fe81-dc8074e02983"
      },
      "execution_count": 11,
      "outputs": [
        {
          "output_type": "stream",
          "name": "stdout",
          "text": [
            "0.0001766756 [s]\n",
            "5.47289079323488e-06 [s]\n",
            "errore relativo percentuale\n",
            " 3.097706074429565\n"
          ]
        }
      ]
    },
    {
      "cell_type": "code",
      "source": [
        "#calcolo del valore teorico di V_out\n",
        "\n",
        "t = 5*(10**(-6)) # 5 microsecondi\n",
        "v_out_teorico = -(r_f/r_in)*(1-(math.exp(-t/tau_teorico)))*-1\n",
        "print(v_out_teorico)\n",
        "\n",
        "err_vout_teorico = v_out_teorico * math.sqrt( (v_out_teorico*err_r_f/r_f)**2 + (v_out_teorico*err_r_in/r_in)**2 + ( ( math.exp(-5*(10**(-6))/tau_teorico) )*(r_f/r_in)*(err_tau_teorico * 5*(10**(-6)) ) / (tau_teorico)**2 )**2 )\n",
        "print(err_vout_teorico)\n",
        "\n",
        "print(\"errore relativo percentuale\\n\", 100*err_vout_teorico/v_out_teorico)"
      ],
      "metadata": {
        "colab": {
          "base_uri": "https://localhost:8080/"
        },
        "id": "qA4nV04vexUJ",
        "outputId": "79b00e69-1912-4dd1-eac3-16c60c1c6513"
      },
      "execution_count": 12,
      "outputs": [
        {
          "output_type": "stream",
          "name": "stdout",
          "text": [
            "0.3347851085805332\n",
            "0.0034236625432421206\n",
            "errore relativo percentuale\n",
            " 1.0226448116997273\n"
          ]
        }
      ]
    },
    {
      "cell_type": "markdown",
      "source": [
        "Il valore misurato sperimentalmente con i cursuri è: (scala ? V)\n",
        "\n",
        "$V_{out} = \\ ? \\ V$"
      ],
      "metadata": {
        "id": "rylzYetTgJfx"
      }
    },
    {
      "cell_type": "code",
      "source": [
        "err_vout_sper = math.sqrt(1/3) * math.sqrt( (0.1* ? )**2 + ( ? *3/100)**2 )\n",
        "print(err_vout_sper)"
      ],
      "metadata": {
        "id": "si4Mg6RK1iyO"
      },
      "execution_count": null,
      "outputs": []
    },
    {
      "cell_type": "code",
      "source": [
        "#compatibilità tra il valore teorico e lo sperimentale per il vmax\n",
        "print( ( ? - v_out_teorico) / math.sqrt( (err_vout_teorico)**2 + (err_vout_sper)**2 )  )"
      ],
      "metadata": {
        "id": "-JLs2Aul5LvQ"
      },
      "execution_count": null,
      "outputs": []
    },
    {
      "cell_type": "code",
      "source": [
        "print(( ? - v_out_teorico )*100/ v_out_teorico )"
      ],
      "metadata": {
        "id": "yoxHetUMlekY"
      },
      "execution_count": null,
      "outputs": []
    },
    {
      "cell_type": "markdown",
      "source": [
        "\n",
        "\n",
        "---\n",
        "\n"
      ],
      "metadata": {
        "id": "1WpyxSklaWGg"
      }
    },
    {
      "cell_type": "markdown",
      "source": [
        "## ✅ **Verifica della linearità del preamplificatore**"
      ],
      "metadata": {
        "id": "4iswaWIMaWGg"
      }
    },
    {
      "cell_type": "markdown",
      "source": [
        "Possiamo calcolare la quantità di carica iniettata nel cirucito dall'onda quadra come:\n",
        "\n",
        "$ \\frac{tensione \\ \\ in \\ \\ uscita \\ \\ dal \\ \\ generatore}{R_{in}} * tempo \\  del \\ segnale $"
      ],
      "metadata": {
        "id": "emHMf8oofEO_"
      }
    },
    {
      "cell_type": "code",
      "source": [
        "#@title elaborazione\n",
        "carica = []\n",
        "delta_t_sec = []\n",
        "\n",
        "for i in t_gen_vl:\n",
        "  dummy = 0\n",
        "  dummy = i/1000000\n",
        "  delta_t_sec.append(dummy)\n",
        "\n",
        "for i in range(len(delta_v_vl)):\n",
        "  dummy = 0\n",
        "  dummy = 1 * delta_t_sec[i] / r_in\n",
        "  carica.append(dummy)\n",
        "\n",
        "err_carica = []\n",
        "for i in range(len(carica)):\n",
        "  dummy = 0\n",
        "  dummy = carica[i] * ( err_r_in / r_in ) #stessa unità di misura della carica\n",
        "  err_carica.append(dummy)\n",
        "\n",
        "print(\"carica\")\n",
        "print(carica)\n",
        "print(\"\\nerrore carica\")\n",
        "print(err_carica)\n",
        "\n",
        "#calcoliamo la carica in picoCulomb\n",
        "carica_nc = []\n",
        "for i in carica:\n",
        "  dummy = 0\n",
        "  dummy = i*1000000000\n",
        "  carica_nc.append(dummy)\n",
        "\n",
        "err_carica_nc = []\n",
        "for i in err_carica:\n",
        "  dummy = 0\n",
        "  dummy = i*1000000000\n",
        "  err_carica_nc.append(dummy)\n",
        "\n",
        "print(\"\\ncarica in nC\")\n",
        "print(carica_nc)\n",
        "print(\"\\nerr carica nC\")\n",
        "print(err_carica_nc)\n",
        "\n",
        "#calcoliamo errore sulla vout\n",
        "err_vout_vl = []\n",
        "for i in range(len(delta_v_vl)):\n",
        "  dummy = 0\n",
        "  dummy = math.sqrt(1/3) * math.sqrt( (0.1*v_div_vl[i])**2 + (delta_v_vl[i]* 3/100)**2 )    #ipotesi uniforme\n",
        "  err_vout_vl.append(dummy)\n",
        "print(\"\\nerrore vuot\")\n",
        "print(err_vout_vl)"
      ],
      "metadata": {
        "colab": {
          "base_uri": "https://localhost:8080/"
        },
        "id": "MT2Z6qYwLR4X",
        "outputId": "c43491d6-89a3-4002-9e41-d057592aa3e2",
        "cellView": "form"
      },
      "execution_count": 14,
      "outputs": [
        {
          "output_type": "stream",
          "name": "stdout",
          "text": [
            "carica\n",
            "[4.2918454935622317e-08, 8.583690987124463e-08, 1.2875536480686695e-07, 1.7167381974248927e-07, 2.145922746781116e-07]\n",
            "\n",
            "errore carica\n",
            "[1.7859302023584106e-11, 3.571860404716821e-11, 5.3577906070752316e-11, 7.143720809433643e-11, 8.929651011792053e-11]\n",
            "\n",
            "carica in nC\n",
            "[42.918454935622314, 85.83690987124463, 128.75536480686694, 171.67381974248926, 214.5922746781116]\n",
            "\n",
            "err carica nC\n",
            "[0.017859302023584107, 0.035718604047168215, 0.053577906070752315, 0.07143720809433643, 0.08929651011792053]\n",
            "\n",
            "errore vuot\n",
            "[0.0027296309884915454, 0.005673670181931034, 0.009125378530961514, 0.011050526382635957, 0.012992633810484051]\n"
          ]
        }
      ]
    },
    {
      "cell_type": "markdown",
      "source": [
        "Grafico"
      ],
      "metadata": {
        "id": "pxpqbcA4NMSw"
      }
    },
    {
      "cell_type": "code",
      "source": [
        "plt.figure(figsize=(9,6))\n",
        "plt.errorbar(carica_nc, delta_v_vl, marker=\".\", linestyle=\"\", yerr=err_vout_vl, label=\"dati\", capsize=5)\n",
        "#plt.plot(carica_pc, delta_v_vl, linestyle=\"--\", color=\"red\")\n",
        "plt.title(\"Verifica linearità\")\n",
        "plt.xlabel(\"Carica $[nC]$\")\n",
        "plt.ylabel(\"$V_{out} \\ \\ [V]$\")\n",
        "plt.plot(np.linspace(30,230,200), retta_fit_xba(np.linspace(30,230,200), 0.003106372932153033, 0.010269662734616825), marker=\"\", linestyle=\":\", label=\"fit\")\n",
        "plt.legend()\n",
        "plt.grid()"
      ],
      "metadata": {
        "colab": {
          "base_uri": "https://localhost:8080/",
          "height": 566
        },
        "id": "1YJK1hqMNNdI",
        "outputId": "b2909f5f-a707-4410-891b-a682e1b87b92"
      },
      "execution_count": 21,
      "outputs": [
        {
          "output_type": "display_data",
          "data": {
            "text/plain": [
              "<Figure size 900x600 with 1 Axes>"
            ],
            "image/png": "[encoded data removed]"
          },
          "metadata": {}
        }
      ]
    },
    {
      "cell_type": "code",
      "source": [
        "regrlin_pear_errpost_xys(carica_nc, delta_v_vl, err_vout_vl)"
      ],
      "metadata": {
        "colab": {
          "base_uri": "https://localhost:8080/"
        },
        "id": "Z-dcFeLyO7py",
        "outputId": "c9c9891c-1628-4e09-de7a-f66eebe9aef4"
      },
      "execution_count": 15,
      "outputs": [
        {
          "output_type": "stream",
          "name": "stdout",
          "text": [
            "pendenza $b$\t 0.003106372932153033\n",
            "$\\sigma_b$\t 5.3204853735943506e-05\n",
            "intercetta $a$\t 0.010269662734616825\n",
            "$\\sigma_a$\t 0.004194032996722713\n",
            "Coefficiente di Pearson $\\rho_{xy}$\t 0.9998912223573513\n",
            "$\\sigma_{\\rho_{xy}}$\t 0.008515543684381848\n",
            "Errore a posteriori $\\delta$\t 0.00429929401868403\n"
          ]
        }
      ]
    },
    {
      "cell_type": "code",
      "source": [
        "chi_quadro_lineare(delta_v_vl, carica_nc, err_vout_vl, 0.010269662734616825, 0.003106372932153033, \"V\", \"Carica $[nC]$\", \"\")"
      ],
      "metadata": {
        "colab": {
          "base_uri": "https://localhost:8080/",
          "height": 561
        },
        "id": "BW6NlqIpRXbb",
        "outputId": "a25828aa-f10b-48cf-da60-02095e4e279d"
      },
      "execution_count": 19,
      "outputs": [
        {
          "output_type": "stream",
          "name": "stdout",
          "text": [
            "chi quadro \n",
            " 1.090470152002075\n",
            "NDOF  \n",
            " 3\n",
            "[-0.0007903894364637287, 0.0050888838616893195, -0.0022318428401575385, 0.0004474304579955568, -0.004873296243851466]\n"
          ]
        },
        {
          "output_type": "display_data",
          "data": {
            "text/plain": [
              "<Figure size 640x480 with 1 Axes>"
            ],
            "image/png": "[encoded data removed]"
          },
          "metadata": {}
        }
      ]
    },
    {
      "cell_type": "markdown",
      "source": [
        "\n",
        "\n",
        "---\n",
        "\n"
      ],
      "metadata": {
        "id": "xyBz6jlJaWGg"
      }
    },
    {
      "cell_type": "markdown",
      "source": [
        "## 🟠 **Tempo caratteristico**"
      ],
      "metadata": {
        "id": "GW-2IjNKaWGg"
      }
    },
    {
      "cell_type": "markdown",
      "source": [
        "Parte teorica:\n",
        "\n",
        "$V(t) = V_0 *e^{-t/\\tau}$\n",
        "\n",
        "Linearizzando otteniamo che:\n",
        "\n",
        "$y = ln(V_0) + (-t/\\tau)$\n",
        "\n",
        "Ricaviamo quindi:\n",
        "\n",
        "$\\tau = -1/b_{fit}$\n",
        "\n",
        "e il relativo errore (propagazione):\n",
        "\n",
        "$\\sigma_{\\tau} = \\frac{\\sigma_b^2}{b^2}$\n",
        "\n",
        "A livello di dati di laboratorio, la procedura implica che l'asse delle x contenza il tempo, la cui unità di misura coinciderà con quella di $\\tau$, mentra l'asse delle y conterrà $ln(V_{out})$, entrambe misure prese tramite i cursori direttamente dall'oscilloscopio.\n",
        "\n",
        "L'errore su $V_{out}$ si ottiene come segue:\n",
        "\n",
        "$\\sqrt{(\\frac{1}{10}*div)^2 + (\\frac{3}{100}*lettura)^2}$\n",
        "\n",
        "e l'errore per il lovaritmo di $V_{out}$:\n",
        "\n",
        "$\\frac{errore \\ sul \\ V}{valore \\ di \\ V}$\n",
        "\n",
        "Utilizzo dell'offset sui tempi:\n",
        "\n",
        "Perché, ad esempio considerando la scarica, noi analizziamo quanto tempo ci mette il condensatore a scaricarsi, quindi vogliamo mettere lo zero a un istante prima che cominci la scarica. Il problema è che l'oscilloscopio non mette lo zero dove vogliamo noi, ma a seconda di come impostiamo il trigger, quindi lo zero dei tempi dell'oscilloscopio non coincide con il nostro, quindi dobbiamo shiftare i tempi a sinistra. Sennò ad esempio, se iniziamo a studiare l'rc a partire da 10 millisecondi e vediamo che la vout è 1/e volte quella iniziale a 10.01 millisecondi, noi metteremmo τ = 10.01 millisecondi quando in realtà sarebbe di 10 microsecondi"
      ],
      "metadata": {
        "id": "ih7ZUkFtm9vh"
      }
    },
    {
      "cell_type": "code",
      "source": [
        "#@title elaborazione dei dati\n",
        "t_graph = []\n",
        "v_out_graph = []\n",
        "err_v_out = []\n",
        "err_v_out_graph = []\n",
        "\n",
        "for i in t_tc:\n",
        "  dummy = 0\n",
        "  dummy = (i - t_offset_tc)\n",
        "  t_graph.append(dummy)\n",
        "for i in V_out_tc:\n",
        "  dummy = 0\n",
        "  dummy = math.log(i)\n",
        "  v_out_graph.append(dummy)\n",
        "\n",
        "for i in V_out_tc:\n",
        "  dummy = 0\n",
        "  dummy = math.sqrt(1/3)* math.sqrt( (0.1*v_su_div_tc)**2 + (0.03*i)**2 )                           #ipotesi uniforme\n",
        "  err_v_out.append(dummy)\n",
        "for i in range(len(V_out_tc)):\n",
        "  dummy = 0\n",
        "  dummy = err_v_out[i] / V_out_tc[i]\n",
        "  err_v_out_graph.append(dummy)\n",
        "\n",
        "print(\"t_graph \\n\", t_graph, \"\\n\" )\n",
        "print(\"err_v_out\\n\", err_v_out, \"\\n\")\n",
        "print(\"v_out_graph\\n\", v_out_graph, \"\\n\")\n",
        "print(\"err_v_out_graph\\n\", err_v_out_graph)\n"
      ],
      "metadata": {
        "id": "yUQ3go5qm-Fh",
        "colab": {
          "base_uri": "https://localhost:8080/"
        },
        "outputId": "cbc4fa80-ceee-4937-d632-b26b7dd8595a",
        "cellView": "form"
      },
      "execution_count": 22,
      "outputs": [
        {
          "output_type": "stream",
          "name": "stdout",
          "text": [
            "t_graph \n",
            " [31, 81, 109, 133, 161, 197, 237, 271, 305] \n",
            "\n",
            "err_v_out\n",
            " [0.0055696349371689826, 0.004562689265480757, 0.004148316927783283, 0.0038606389799272006, 0.0035980735586329158, 0.0033665016461206934, 0.003187245414669748, 0.0030800216449455896, 0.0030138568866708544] \n",
            "\n",
            "v_out_graph\n",
            " [-1.2909841813155656, -1.5896352851379207, -1.760260802168684, -1.9105430052180221, -2.0874737133771, -2.3025850929940455, -2.551046452292545, -2.7806208939370456, -2.995732273553991] \n",
            "\n",
            "err_v_out_graph\n",
            " [0.020253217953341753, 0.02236612385039587, 0.024118121673158625, 0.026085398513021628, 0.029016722247039644, 0.03366501646120693, 0.040862120700894206, 0.04967776846686435, 0.060277137733417085]\n"
          ]
        }
      ]
    },
    {
      "cell_type": "markdown",
      "source": [
        "Regressione lineare"
      ],
      "metadata": {
        "id": "elQlEt50rJdg"
      }
    },
    {
      "cell_type": "code",
      "source": [
        "regrlin_pear_errpost_xys(t_graph, v_out_graph, err_v_out_graph)"
      ],
      "metadata": {
        "colab": {
          "base_uri": "https://localhost:8080/"
        },
        "id": "erF2vw7orJER",
        "outputId": "15d3e975-9299-4bca-f5cf-11bd7f2e94fa"
      },
      "execution_count": 23,
      "outputs": [
        {
          "output_type": "stream",
          "name": "stdout",
          "text": [
            "pendenza $b$\t -0.006173477425003009\n",
            "$\\sigma_b$\t 0.00013258001495519448\n",
            "intercetta $a$\t -1.0927767738359329\n",
            "$\\sigma_a$\t 0.01859567779240794\n",
            "Coefficiente di Pearson $\\rho_{xy}$\t -0.9998913393101253\n",
            "$\\sigma_{\\rho_{xy}}$\t 0.005571734438906891\n",
            "Errore a posteriori $\\delta$\t 0.010580118934817168\n"
          ]
        }
      ]
    },
    {
      "cell_type": "code",
      "source": [
        "#calcolo di tau\n",
        "tau_fit_cavo = -1/-0.006173477425003009\n",
        "err_tau_fit_cavo = 0.00013258001495519448 / (-0.006173477425003009)**2\n",
        "print(tau_fit_cavo, \"[microsecondi]\")\n",
        "print(err_tau_fit_cavo)\n",
        "print(100*err_tau_fit_cavo/tau_fit_cavo)"
      ],
      "metadata": {
        "colab": {
          "base_uri": "https://localhost:8080/"
        },
        "id": "-pwzqNnar_z0",
        "outputId": "20a689b9-b188-44b6-af6c-27cb8ac5761b"
      },
      "execution_count": 24,
      "outputs": [
        {
          "output_type": "stream",
          "name": "stdout",
          "text": [
            "161.98326018816093 [microsecondi]\n",
            "3.478710875536581\n",
            "2.147574305823753\n"
          ]
        }
      ]
    },
    {
      "cell_type": "code",
      "source": [
        "#compatibilità valore teorico e sperimentale\n",
        "\n",
        "print( ( 176.6756 - 161.98326018816093) / math.sqrt( (5.47289079323488)**2 + (3.478710875536581)**2 ) )\n"
      ],
      "metadata": {
        "colab": {
          "base_uri": "https://localhost:8080/"
        },
        "id": "0x__Z4ke9scO",
        "outputId": "4e54c6d3-a6a5-4008-fa0f-1aa2ef72f34b"
      },
      "execution_count": 25,
      "outputs": [
        {
          "output_type": "stream",
          "name": "stdout",
          "text": [
            "2.2656222457300337\n"
          ]
        }
      ]
    },
    {
      "cell_type": "code",
      "source": [
        "#verifica della distanza dal valore teorico\n",
        "print((176.6756 - 161.98326018816093) *100/ 176.6756)"
      ],
      "metadata": {
        "colab": {
          "base_uri": "https://localhost:8080/"
        },
        "id": "k6qH_hk-sPhy",
        "outputId": "b7dd80ed-3dca-4ff0-d7f0-ff749ec1bc17"
      },
      "execution_count": 26,
      "outputs": [
        {
          "output_type": "stream",
          "name": "stdout",
          "text": [
            "8.315998254336805\n"
          ]
        }
      ]
    },
    {
      "cell_type": "code",
      "source": [
        "chi_quadro_lineare(v_out_graph, t_graph, err_v_out_graph, -1.0927767738359329, -0.006173477425003009, \"$V_{out}$\", \"Tempo $[\\mu s]$\", \"\")"
      ],
      "metadata": {
        "colab": {
          "base_uri": "https://localhost:8080/",
          "height": 583
        },
        "id": "ZfIWilLRvqQl",
        "outputId": "071cc5f8-e551-48b5-e3a5-b1726c3a1835"
      },
      "execution_count": 27,
      "outputs": [
        {
          "output_type": "stream",
          "name": "stdout",
          "text": [
            "chi quadro \n",
            " 0.4509994000065665\n",
            "NDOF  \n",
            " 7\n",
            "[-0.00682960730453952, 0.003193160123255767, 0.005425010992576862, 0.0033062661433107543, -0.0007670741156831085, 0.006366733567479965, 0.004844471269100481, -0.01483173792529735, -0.02004488509214042]\n"
          ]
        },
        {
          "output_type": "display_data",
          "data": {
            "text/plain": [
              "<Figure size 640x480 with 1 Axes>"
            ],
            "image/png": "[encoded data removed]"
          },
          "metadata": {}
        }
      ]
    },
    {
      "cell_type": "code",
      "source": [
        "%%shell\n",
        "curl  > \"6 - tempo\"\n",
        "curl  > \"tempo_caratteristico_osc\"\n",
        "curl  > \"tempo_caratteristico_osc_ch2\""
      ],
      "metadata": {
        "colab": {
          "base_uri": "https://localhost:8080/"
        },
        "id": "yYXhqPvegLe5",
        "outputId": "c0e7c8f5-204a-4f4f-b028-c18bec33d286"
      },
      "execution_count": null,
      "outputs": [
        {
          "output_type": "stream",
          "name": "stdout",
          "text": [
            "  % Total    % Received % Xferd  Average Speed   Time    Time     Time  Current\n",
            "                                 Dload  Upload   Total   Spent    Left  Speed\n",
            "100  3041  100  3041    0     0  13150      0 --:--:-- --:--:-- --:--:-- 13164\n"
          ]
        },
        {
          "output_type": "execute_result",
          "data": {
            "text/plain": []
          },
          "metadata": {},
          "execution_count": 1
        }
      ]
    },
    {
      "cell_type": "markdown",
      "source": [
        "Simulazione"
      ],
      "metadata": {
        "id": "fX1lr1YSOndQ"
      }
    },
    {
      "cell_type": "code",
      "source": [
        "tempo_spice_t, vout_spice_t = np.loadtxt( \"6 - tempo\", skiprows=1, unpack=True)\n",
        "tempo_osc_t, vout_osc_t = np.loadtxt( \"tempo_caratteristico_osc\", skiprows=1, unpack=True)\n",
        "tempo_osc_2_t, vout_osc_2_t = np.loadtxt( \"tempo_caratteristico_osc_ch2\", skiprows=1, unpack=True)"
      ],
      "metadata": {
        "id": "bvjQ7uvsOaaO"
      },
      "execution_count": null,
      "outputs": []
    },
    {
      "cell_type": "code",
      "source": [
        "tempo_spice_t_isolato = tempo_spice_t[46:58]*( [10**(6)]*len(tempo_spice_t[46:58]) )\n",
        "plt.plot(tempo_spice_t_isolato, vout_spice_t[46:58], marker=\"x\", linestyle=\"\")"
      ],
      "metadata": {
        "id": "UWHtoxoRdmUx"
      },
      "execution_count": null,
      "outputs": []
    },
    {
      "cell_type": "code",
      "source": [
        "plt.figure(figsize=(10,5))\n",
        "plt.plot(tempo_spice_t*( [10**(6)]*len(tempo_spice_t) ), vout_spice_t, linestyle=\"--\", label=\"simulazione\")\n",
        "\n",
        "plt.plot( tempo_osc_t *( [10**(6)]*len(tempo_osc_t) ) , vout_osc_t, marker=\"\", linestyle=\":\", label=\"dati\" )\n",
        "\n",
        "plt.grid()\n",
        "plt.title(\"Simulazione\")\n",
        "plt.xlabel(\"Tempi  $[\\mu s]$\")\n",
        "plt.ylabel(\"$V_{out}$  $[V]$\")\n",
        "plt.legend()"
      ],
      "metadata": {
        "id": "PfOq9Yy5BFcM"
      },
      "execution_count": null,
      "outputs": []
    },
    {
      "cell_type": "code",
      "source": [
        "fig, ax1 = plt.subplots(figsize=(10,5))\n",
        "\n",
        "asse1, = ax1.plot(tempo_spice_t[:66]*( [10**(6)]*len(tempo_spice_t[:66]) ), vout_spice_t[:66], linestyle=\"--\", label=\"simulazione\", color=\"olive\")\n",
        "\n",
        "asse2, = ax1.plot( tempo_osc_t *( [1000000]*len(tempo_osc_t) ) , vout_osc_t, marker=\"\", linestyle=\":\", label=\"dati (out) \", color=\"orange\" )\n",
        "\n",
        "ax1.grid()\n",
        "ax2.grid(axis=\"x\")\n",
        "ax1.set_title(\"Confronto simulazione - dati\")\n",
        "ax1.set_xlabel(\"Tempi  $[\\mu s]$\")\n",
        "ax1.set_ylabel(\"$V_{out}$  $[V]$\")\n",
        "ax1.legend(handles=[asse1, asse2], loc=\"center right\")"
      ],
      "metadata": {
        "id": "t0vn9sZxBrO1"
      },
      "execution_count": null,
      "outputs": []
    },
    {
      "cell_type": "markdown",
      "source": [
        "Grafico"
      ],
      "metadata": {
        "id": "waqmNLO5rKyi"
      }
    },
    {
      "cell_type": "code",
      "source": [
        "plt.figure(figsize=(9,6))\n",
        "plt.errorbar(t_graph, v_out_graph, yerr=err_v_out_graph, marker=\".\", linestyle=\"\", label=\"Dati\")\n",
        "plt.title(\"Misura del tempo caratteristico\")\n",
        "plt.xlabel(\"Tempi  $[\\mu s]$\")\n",
        "plt.ylabel(\"$V_{out}$  $[V]$\")\n",
        "plt.plot(np.linspace(0,370,200), retta_fit_xba(np.linspace(0,370,200), -0.006173477425003009, -1.0927767738359329), marker=\"\", linestyle=\"--\", label=\"fit\")\n",
        "\n",
        "tsti = []\n",
        "for i in vout_spice_t[46:58]:\n",
        "  dummy = 0\n",
        "  dummy = math.log(i) + 0.52\n",
        "  tsti.append(dummy)\n",
        "\n",
        "plt.plot(tempo_spice_t_isolato, tsti, marker=\"\", linestyle=\":\", label=\"simulazione\")\n",
        "\n",
        "plt.legend()\n",
        "plt.grid()"
      ],
      "metadata": {
        "id": "kWSX2nJ2qLyA"
      },
      "execution_count": null,
      "outputs": []
    },
    {
      "cell_type": "markdown",
      "source": [
        "\n",
        "\n",
        "---\n",
        "\n"
      ],
      "metadata": {
        "id": "wd4rrS8gaWGh"
      }
    },
    {
      "cell_type": "markdown",
      "source": [
        "## 🟠 **Risposta in frequenza**"
      ],
      "metadata": {
        "id": "2eLLVy3NaWGh"
      }
    },
    {
      "cell_type": "code",
      "source": [
        "#@title elaborazione dei dati\n",
        "f_b_hz = []\n",
        "A = []\n",
        "log_A = []\n",
        "err_vout = []\n",
        "err_vin = []\n",
        "err_A = []\n",
        "err_log_A = []\n",
        "\n",
        "for i in freq_b:\n",
        "  dummy = 0\n",
        "  dummy = i*1000\n",
        "  f_b_hz.append(dummy)\n",
        "for i in range(len(v_out_b)):\n",
        "  dummy = 0\n",
        "  dummy = v_out_b[i] / v_in_b[i]\n",
        "  A.append(dummy)\n",
        "for i in range(len(A)):\n",
        "  dummy = 0\n",
        "  dummy = 20*math.log10( A[i] )\n",
        "  log_A.append(dummy)\n",
        "\n",
        "for i in range(len(v_out_b)):\n",
        "  dummy = 0\n",
        "  dummy = math.sqrt(1/3)* math.sqrt( (0.1*v_su_div_out_b[i])**2 + (0.03*v_out_b[i])**2 )            #ipotesi uniforme\n",
        "  err_vout.append(dummy)\n",
        "for i in range(len(v_in_b)):\n",
        "  dummy = 0\n",
        "  dummy = math.sqrt(1/3)* math.sqrt( (0.1*v_su_div_in_b[i])**2 + (0.03*v_in_b[i])**2 )              #ipotesi uniforme\n",
        "  err_vin.append(dummy)\n",
        "\n",
        "for i in range(len(A)):\n",
        "  dummy = 0\n",
        "  dummy = A[i]*math.sqrt( ( err_vout[i]/v_out_b[i] )**2 + ( err_vin[i]/v_in_b[i] )**2 )\n",
        "  err_A.append(dummy)\n",
        "for i in range(len(log_A)):\n",
        "  dummy = 0\n",
        "  dummy = (20*err_A[i]) / (A[i]*math.log(10))\n",
        "  err_log_A.append(dummy)\n",
        "\n",
        "print(\"err vout \\n\", err_vout, \"\\n\")\n",
        "print(\"err vin \\n\", err_vin, \"\\n\")\n",
        "\n",
        "print(\"Ampiezza \\n\", A, \"\\n\")\n",
        "print(\"err ampiezza\\n\", err_A, \"\\n\")\n",
        "\n",
        "print(\"log A\\n\", log_A, \"\\n\")\n",
        "print(\"err_log_A\\n\", err_log_A)"
      ],
      "metadata": {
        "colab": {
          "base_uri": "https://localhost:8080/"
        },
        "id": "o9tNEwVJzBG-",
        "outputId": "992a256e-2cdd-48e5-9745-a506da9f8d5c",
        "cellView": "form"
      },
      "execution_count": 30,
      "outputs": [
        {
          "output_type": "stream",
          "name": "stdout",
          "text": [
            "err vout \n",
            " [0.23776739333502675, 0.23776739333502675, 0.23776739333502675, 0.23776739333502675, 0.2317354813862852, 0.21689014116214073, 0.1803699901129158, 0.0995191103925941, 0.04947780647253204, 0.02242684403417773, 0.010698286467156006, 0.0052041649986653326, 0.0023323879037015546, 0.001508022988330527, 0.0012471107943295707] \n",
            "\n",
            "err vin \n",
            " [0.02096099552343193, 0.02096099552343193, 0.02096099552343193, 0.02096099552343193, 0.02096099552343193, 0.02096099552343193, 0.02096099552343193, 0.02081665999466133, 0.021105765405057767, 0.021105765405057767, 0.021105765405057767, 0.021105765405057767, 0.021105765405057767, 0.021105765405057767, 0.02081665999466133] \n",
            "\n",
            "Ampiezza \n",
            " [11.881188118811881, 11.881188118811881, 11.881188118811881, 11.881188118811881, 11.485148514851485, 10.495049504950495, 7.920792079207921, 4.68, 2.2745098039215685, 1.0882352941176472, 0.5098039215686274, 0.24509803921568626, 0.11470588235294119, 0.054901960784313725, 0.0272] \n",
            "\n",
            "err ampiezza\n",
            " [0.3409091011910951, 0.3409091011910951, 0.3409091011910951, 0.3409091011910951, 0.3308429605177616, 0.3058676500161268, 0.24272277992716593, 0.139266267751144, 0.0675870671261808, 0.031471873114004935, 0.01487570803476794, 0.0071939058253238635, 0.0032957889365655135, 0.0018645064014989577, 0.001369628660136267] \n",
            "\n",
            "log A\n",
            " [21.497197445299644, 21.497197445299644, 21.497197445299644, 21.497197445299644, 21.20273230888552, 20.419689829642557, 17.97537226418602, 13.404917061482479, 7.137756262579642, 0.7344561404947985, -5.851936562542369, -12.213203261797599, -18.80828620031512, -25.208242895114342, -31.308621919316025] \n",
            "\n",
            "err_log_A\n",
            " [0.24922581815444794, 0.24922581815444794, 0.24922581815444794, 0.24922581815444794, 0.25020707732878145, 0.25314150739748326, 0.26616823898532843, 0.2584725282033446, 0.25810124230123704, 0.2511967936061817, 0.2534479489300636, 0.25494072602681667, 0.24956748848573548, 0.29497847802756144, 0.4373692421718567]\n"
          ]
        }
      ]
    },
    {
      "cell_type": "markdown",
      "source": [
        "Simulazione"
      ],
      "metadata": {
        "id": "pjFG7ZLlQFRN"
      }
    },
    {
      "cell_type": "code",
      "source": [
        "%%shell\n",
        "curl  > \"6 - bode\""
      ],
      "metadata": {
        "id": "NapklCj_hr33"
      },
      "execution_count": null,
      "outputs": []
    },
    {
      "cell_type": "code",
      "source": [
        "freq_spice_b, a_spice_b, fase_spice_b = np.loadtxt( \"6 - bode\", skiprows=1, unpack=True)"
      ],
      "metadata": {
        "id": "zqfboNxdQD0f"
      },
      "execution_count": null,
      "outputs": []
    },
    {
      "cell_type": "markdown",
      "source": [
        "**Fit con il metodo del massimo -3**"
      ],
      "metadata": {
        "id": "SEt4FkdOVC_5"
      }
    },
    {
      "cell_type": "code",
      "source": [
        "x_orizzontali = np.log10( f_b_hz[0:4] )\n",
        "y_orizzontali = log_A[0:4]\n",
        "err_y_orizzontali = err_log_A[0:4]\n",
        "\n",
        "x_oblique_i = np.log10( f_b_hz[7:] )\n",
        "y_oblique_i = log_A[7:]\n",
        "err_y_oblique_i = err_log_A[7:]\n",
        "\n",
        "print(\"Regressione orizzontale\")\n",
        "print(\"la regressione lineare a due parametri non ha validità, inserita per avere una approssimazione di rho ed errpost\")\n",
        "regrlin_pear_errpost_xys(x_orizzontali, y_orizzontali, err_y_orizzontali)\n",
        "param_oz, cov_oz = curve_fit(retta_fit_xa, x_orizzontali, y_orizzontali, sigma=err_y_orizzontali)\n",
        "print(\"-----------------\")\n",
        "print(param_oz)\n",
        "print(cov_oz)\n",
        "print(\"--------------------------------------------------------------------------------------\")\n",
        "print(\"Regrezzione obliqua\")\n",
        "regrlin_pear_errpost_xys(x_oblique_i, y_oblique_i, err_y_oblique_i)\n",
        "param_oi, cov_oi = curve_fit(retta_fit_xba, x_oblique_i, y_oblique_i, sigma=err_y_oblique_i)\n",
        "print(\"-----------------\")\n",
        "print(param_oi)\n",
        "print(cov_oi)\n",
        "print(\"--------------------------------------------------------------------------------------\")"
      ],
      "metadata": {
        "colab": {
          "base_uri": "https://localhost:8080/"
        },
        "id": "-gvsbCRXVGVf",
        "outputId": "86ac6dee-3477-4b26-9b03-a6d606da9f67"
      },
      "execution_count": 31,
      "outputs": [
        {
          "output_type": "stream",
          "name": "stdout",
          "text": [
            "Regressione orizzontale\n",
            "la regressione lineare a due parametri non ha validità, inserita per avere una approssimazione di rho ed errpost\n",
            "pendenza $b$\t -2.842170943040401e-14\n",
            "$\\sigma_b$\t 0.3342965310748334\n",
            "intercetta $a$\t 21.497197445299662\n",
            "$\\sigma_a$\t 0.51661184865161\n",
            "Coefficiente di Pearson $\\rho_{xy}$\t nan\n",
            "$\\sigma_{\\rho_{xy}}$\t nan\n",
            "Errore a posteriori $\\delta$\t 3.809860975949991e-14\n",
            "-----------------\n",
            "[21.49719745]\n",
            "[[0.]]\n",
            "--------------------------------------------------------------------------------------\n",
            "Regrezzione obliqua\n",
            "pendenza $b$\t -19.314500555077956\n",
            "$\\sigma_b$\t 0.1375002369774394\n",
            "intercetta $a$\t 77.87457695916311\n",
            "$\\sigma_a$\t 0.6083949701080296\n",
            "Coefficiente di Pearson $\\rho_{xy}$\t -0.999967058427987\n",
            "$\\sigma_{\\rho_{xy}}$\t 0.003313660083117981\n",
            "Errore a posteriori $\\delta$\t 0.14422340421969138\n",
            "-----------------\n",
            "[-19.31450056  77.87457696]\n",
            "[[ 0.00376747 -0.01646302]\n",
            " [-0.01646302  0.07375878]]\n",
            "--------------------------------------------------------------------------------------\n"
          ]
        },
        {
          "output_type": "stream",
          "name": "stderr",
          "text": [
            "<ipython-input-4-5616a02394c8>:93: RuntimeWarning: invalid value encountered in double_scalars\n",
            "  rxy = numeratore / denominatore\n"
          ]
        }
      ]
    },
    {
      "cell_type": "code",
      "source": [
        "chi_quadro(y_orizzontali, x_orizzontali, err_y_orizzontali, retta_fit_xa(x_orizzontali, 21.49719745), \"ampiezza [dB]\", \"frequenza [hz] (scala log10)\", \"lato passante\", False)"
      ],
      "metadata": {
        "colab": {
          "base_uri": "https://localhost:8080/",
          "height": 541
        },
        "id": "z8tkdK_RVG3E",
        "outputId": "9882999c-6913-4742-f97e-5e5f7daea464"
      },
      "execution_count": 32,
      "outputs": [
        {
          "output_type": "stream",
          "name": "stdout",
          "text": [
            "chi quadro \n",
            " 1.4227732799895188e-15\n",
            "NDOF  \n",
            " 2\n"
          ]
        },
        {
          "output_type": "display_data",
          "data": {
            "text/plain": [
              "<Figure size 640x480 with 1 Axes>"
            ],
            "image/png": "[encoded data removed]"
          },
          "metadata": {}
        }
      ]
    },
    {
      "cell_type": "code",
      "source": [
        "chi_quadro(y_oblique_i, x_oblique_i, err_y_oblique_i, retta_fit_xba(x_oblique_i, -19.31450056 , 77.87457696), \"ampiezza [dB]\", \"frequenza [hz] (scala log10)\", \"lato integratore\", False)"
      ],
      "metadata": {
        "colab": {
          "base_uri": "https://localhost:8080/",
          "height": 541
        },
        "id": "jX-ZAudAVHMW",
        "outputId": "fc3e0469-4107-45df-c74d-eb8cfd1f8ad7"
      },
      "execution_count": 34,
      "outputs": [
        {
          "output_type": "stream",
          "name": "stdout",
          "text": [
            "chi quadro \n",
            " 1.1956215974377367\n",
            "NDOF  \n",
            " 6\n"
          ]
        },
        {
          "output_type": "display_data",
          "data": {
            "text/plain": [
              "<Figure size 640x480 with 1 Axes>"
            ],
            "image/png": "[encoded data removed]"
          },
          "metadata": {}
        }
      ]
    },
    {
      "cell_type": "code",
      "source": [
        "intersezione_2rette(21.49719745 - 3, math.sqrt(0), 0, 0, 0, 77.87457696, math.sqrt(0.07375878), -19.31450056, math.sqrt(0.00376747), -0.01646302)"
      ],
      "metadata": {
        "colab": {
          "base_uri": "https://localhost:8080/"
        },
        "id": "pe55EMNhVHms",
        "outputId": "408b8ee7-043c-48c4-bd23-7b424145a74c"
      },
      "execution_count": 37,
      "outputs": [
        {
          "output_type": "stream",
          "name": "stdout",
          "text": [
            "---------------------------------------------\n",
            "x intersezione\n",
            "3.0742384109568714\n",
            "incertezza\n",
            "0.040053547499394056\n",
            "---------------------------------------------\n"
          ]
        }
      ]
    },
    {
      "cell_type": "code",
      "source": [
        "#frequenza di taglio superiore\n",
        "print( (10**(3.0742384109568714)) , \" \\pm \", ( (10**(3.0742384109568714))*math.log(10)*0.040053547499394056 ) )\n",
        "\n",
        "print(\"errore relativo\")\n",
        "print( 109.41959091929115/1186.4198682795377   )"
      ],
      "metadata": {
        "colab": {
          "base_uri": "https://localhost:8080/"
        },
        "id": "CY4fPRaxZMJD",
        "outputId": "715ae33d-1f3d-4136-8302-d4871affbd84"
      },
      "execution_count": 39,
      "outputs": [
        {
          "output_type": "stream",
          "name": "stdout",
          "text": [
            "1186.4198682795377  \\pm  109.41959091929115\n",
            "errore relativo\n",
            "0.0922267013936337\n"
          ]
        }
      ]
    },
    {
      "cell_type": "markdown",
      "source": [
        "**Grafico**"
      ],
      "metadata": {
        "id": "GAmbXsg53caz"
      }
    },
    {
      "cell_type": "code",
      "source": [
        "plt.figure(figsize=(10,7))\n",
        "plt.errorbar( f_b_hz, log_A, yerr=err_log_A, marker=\".\", linestyle=\"\", label=\"dati\" )\n",
        "#plt.plot( freq_spice_b, a_spice_b, marker=\"\", linestyle=\":\", label=\"simulazione\", color=\"magenta\")\n",
        "\n",
        "plt.plot( np.linspace(10, 3000, 10000) , retta_fit_xa( np.log10(np.linspace(10, 3000, 10000)), 21.49719745 - 3 ), marker=\"\", linestyle=\"--\", color=\"olive\", label=\"max -3dB\" ) #orizzontale\n",
        "plt.axvline(x=1186.4198682795377, color='red', linestyle=':', label=\"$ f_t = 1.2 \\pm 0.1 [kHz] $\")\n",
        "\n",
        "plt.xscale(\"log\", base=10)\n",
        "plt.title(\"Grafico di Bode\")\n",
        "plt.xlabel(\"frequena  $[Hz]$\")\n",
        "plt.ylabel(\"Ampiezza  $[dB]$\")\n",
        "plt.grid()\n",
        "plt.legend()"
      ],
      "metadata": {
        "colab": {
          "base_uri": "https://localhost:8080/",
          "height": 667
        },
        "id": "LNr_vsKz3d6b",
        "outputId": "d4a4ecc0-d864-400f-eeb4-51f58895fdfd"
      },
      "execution_count": 44,
      "outputs": [
        {
          "output_type": "execute_result",
          "data": {
            "text/plain": [
              "<matplotlib.legend.Legend at 0x7c212946fb20>"
            ]
          },
          "metadata": {},
          "execution_count": 44
        },
        {
          "output_type": "display_data",
          "data": {
            "text/plain": [
              "<Figure size 1000x700 with 1 Axes>"
            ],
            "image/png": "[encoded data removed]"
          },
          "metadata": {}
        }
      ]
    },
    {
      "cell_type": "markdown",
      "source": [
        "**Frequenza di taglio dalla simulazione**"
      ],
      "metadata": {
        "id": "EMfErjzwa6__"
      }
    },
    {
      "cell_type": "code",
      "source": [
        "x_orizzontali = np.log10( freq_spice_b[:150] )\n",
        "y_orizzontali = a_spice_b[:150]\n",
        "err_y_orizzontali = [1]*len(a_spice_b[:150])\n",
        "\n",
        "x_oblique_i = np.log10( freq_spice_b[250:] )\n",
        "y_oblique_i = a_spice_b[250:]\n",
        "err_y_oblique_i = [1]*len(freq_spice_b[250:])\n",
        "\n",
        "print(\"Regressione orizzontale\")\n",
        "print(\"la regressione lineare a due parametri non ha validità, inserita per avere una approssimazione di rho ed eeepost\")\n",
        "regrlin_pear_errpost_xys(x_orizzontali, y_orizzontali, err_y_orizzontali)\n",
        "param_oz, cov_oz = curve_fit(retta_fit_xa, x_orizzontali, y_orizzontali, sigma=err_y_orizzontali)\n",
        "print(\"-----------------\")\n",
        "print(param_oz)\n",
        "print(cov_oz)\n",
        "print(\"--------------------------------------------------------------------------------------\")\n",
        "print(\"Regrezzione obliqua\")\n",
        "regrlin_pear_errpost_xys(x_oblique_i, y_oblique_i, err_y_oblique_i)\n",
        "param_oi, cov_oi = curve_fit(retta_fit_xba, x_oblique_i, y_oblique_i, sigma=err_y_oblique_i)\n",
        "print(\"-----------------\")\n",
        "print(param_oi)\n",
        "print(cov_oi)\n",
        "print(\"--------------------------------------------------------------------------------------\")"
      ],
      "metadata": {
        "id": "8nVIFG1la6mo"
      },
      "execution_count": null,
      "outputs": []
    },
    {
      "cell_type": "code",
      "source": [
        "intersezione_2rette(int1, err_int1, pend1, err_pend1, cov1, int2, err_int2, pend2, err_pend2, cov2)"
      ],
      "metadata": {
        "id": "SsZI4lHRbDCf"
      },
      "execution_count": null,
      "outputs": []
    },
    {
      "cell_type": "code",
      "source": [
        "print( (10**( x )) , \" \\pm \", ( (10**( x ))*math.log(10)* err x ) )\n",
        "\n",
        "print(\"errore relativo\")\n",
        "print( 1/ 1 )"
      ],
      "metadata": {
        "id": "53sYdj81cgZ6"
      },
      "execution_count": null,
      "outputs": []
    },
    {
      "cell_type": "code",
      "source": [
        "#compatibilità simulazione ed esperimento\n",
        "\n",
        "print( (sim  - 1186.4198682795377) / math.sqrt( ( err sim )**2 + (109.41959091929115)**2 )   )"
      ],
      "metadata": {
        "id": "pMSUExOzcqBE"
      },
      "execution_count": null,
      "outputs": []
    },
    {
      "cell_type": "code",
      "source": [
        "#compatibilità esperimento - teoria\n",
        "fdit_sup = 1/ (2*math.pi*0.0001766756 )\n",
        "err_fdit_sup = fdit_sup*( 5.47289079323488e-06/ 0.0001766756 )\n",
        "print(\"ft teorica\")\n",
        "print( fdit_sup, \" \\pm \", err_fdit_sup )\n",
        "\n",
        "print(\"compatibilita\")\n",
        "print( abs(900.8314848903603 - 1186.4198682795377) / math.sqrt( (27.905111627822738)**2 + (109.41959091929115)**2 ) )"
      ],
      "metadata": {
        "colab": {
          "base_uri": "https://localhost:8080/"
        },
        "id": "vVmP_QiWexxF",
        "outputId": "e3603a10-fab7-4806-a416-4b7c36f51f9c"
      },
      "execution_count": 47,
      "outputs": [
        {
          "output_type": "stream",
          "name": "stdout",
          "text": [
            "ft teorica\n",
            "900.8314848903603  \\pm  27.905111627822738\n",
            "compatibilita\n",
            "2.529080126047935\n"
          ]
        }
      ]
    },
    {
      "cell_type": "markdown",
      "source": [
        "#Librerie"
      ],
      "metadata": {
        "id": "4rztS-RPcAcB"
      }
    },
    {
      "cell_type": "code",
      "source": [
        "import math\n",
        "import numpy as np\n",
        "import matplotlib.pyplot as plt\n",
        "from scipy.optimize import curve_fit"
      ],
      "metadata": {
        "id": "ZkTL8HF7cG3z"
      },
      "execution_count": 1,
      "outputs": []
    },
    {
      "cell_type": "code",
      "source": [
        "def chi_quadro(y_vec, x_vec, sigma_vec, y_ref, stringa_ytitle, stringa_xtitle, stringa_titolo, bolean_parameter):\n",
        "\n",
        "  import math\n",
        "  import matplotlib.pyplot as plt\n",
        "\n",
        "#La formula della retta utilizzata è: y = a + bx\n",
        "#dati\n",
        "  y = list(y_vec)\n",
        "  x = list(x_vec)\n",
        "  sigma = list(sigma_vec)\n",
        "  dimensione = len(y)\n",
        "\n",
        "#calcolo del chi quadro\n",
        "  vettore_scarti_quadratici = []\n",
        "  vettore_scarti = []\n",
        "  for i in range(dimensione):\n",
        "    dummy_2 = 0\n",
        "    dummy_3 = 0\n",
        "    dummy_4 = 0\n",
        "    dummy_2 = y[i] - y_ref[i]\n",
        "    dummy_3 = dummy_2 / sigma[i]\n",
        "    dummy_4 = dummy_3**2\n",
        "    vettore_scarti_quadratici.append(dummy_4)\n",
        "    vettore_scarti.append(dummy_2)\n",
        "\n",
        "  chi_quadro = sum(vettore_scarti_quadratici)\n",
        "  print(\"chi quadro \\n\", chi_quadro)\n",
        "  print(\"NDOF  \\n\", dimensione-2)\n",
        "\n",
        "#print del grafico degli scarti\n",
        "  ascisse = x\n",
        "\n",
        "  plt.errorbar(ascisse, vettore_scarti, marker=\".\", linestyle=\"none\", yerr=sigma, ecolor=\"cornflowerblue\", capsize=5)\n",
        "  if bolean_parameter == True:\n",
        "    plt.xscale(\"log\", base=10)\n",
        "  plt.title(\"Grafico dei residui di regressione \" + stringa_titolo )\n",
        "  plt.ylabel(stringa_ytitle)\n",
        "  plt.xlabel(stringa_xtitle)\n",
        "  plt.axhline(0, color='black', linewidth=\"0.6\")\n",
        "  plt.grid()"
      ],
      "metadata": {
        "id": "itq4X8bYYa9Q"
      },
      "execution_count": 18,
      "outputs": []
    },
    {
      "cell_type": "code",
      "source": [
        "def intersezione_2rette(int1, err_int1, pend1, err_pend1, cov1, int2, err_int2, pend2, err_pend2, cov2):\n",
        "  import math\n",
        "\n",
        "  x_intersezione = 0\n",
        "  err_x_intersezione = 0\n",
        "\n",
        "  #calcolo intersezione\n",
        "  x_intersezione = (int2 - int1) / (pend1 - pend2)\n",
        "\n",
        "  #calcolo errore\n",
        "  dummy1 = 0\n",
        "  dummy2 = 0\n",
        "  dummy3 = 0\n",
        "  dummy4 = 0\n",
        "  dummy5 = 0\n",
        "  dummy6 = 0\n",
        "\n",
        "  dummy1 = ( err_pend1 / (pend1 - pend2) )**2\n",
        "  dummy2 = ( err_pend2 / (pend1 - pend2) )**2\n",
        "  dummy3 = ( err_int2 * ( (int2 - int1) / (pend1 - pend2)**2 ) )**2\n",
        "  dummy4 = ( err_pend1* ( ( int2 - int1 ) / ( pend1 - pend2 )**2 ) )**2\n",
        "  dummy5 = cov1*err_pend1*err_int1\n",
        "  dummy6 = cov2*err_pend2*err_int2\n",
        "\n",
        "  err_x_intersezione = math.sqrt( (dummy1 + dummy2 + dummy3 + dummy4 + dummy5 + dummy6) )\n",
        "\n",
        "  #print dei risultati\n",
        "  print(\"---------------------------------------------\")\n",
        "  print(\"x intersezione\")\n",
        "  print(x_intersezione)\n",
        "  print(\"incertezza\")\n",
        "  print(err_x_intersezione)\n",
        "  print(\"---------------------------------------------\")"
      ],
      "metadata": {
        "id": "t1lQ9rxdWVMN"
      },
      "execution_count": 3,
      "outputs": []
    },
    {
      "cell_type": "code",
      "source": [
        "def regrlin_pear_errpost_xys(input_x, input_y, input_sigma) :\n",
        "  import math\n",
        "  import sys\n",
        "  #dati input\n",
        "  x = list(input_x)\n",
        "  y = list(input_y)\n",
        "  sigma = list(input_sigma)\n",
        "  dimensione = len(x)\n",
        "  if len(x) != len(y):\n",
        "    print(\"X E Y DIMENSIONE DIVERSA\")\n",
        "    sys.exit()\n",
        "  if len(x) != len(sigma):\n",
        "    print(\"X E SIGMA DIMENSIONE DIVERSA\")\n",
        "    sys.exit()\n",
        "  #REGRESSIOBNE LINEARE\n",
        "  #calcolo del delta\n",
        "  parametro_1 = 0\n",
        "  parametro_2 = 0\n",
        "  parametro_3 = 0\n",
        "  for i in range(dimensione): #primo termine del delta\n",
        "    dummy_1 = 0\n",
        "    dummy_1 = 1/ pow(sigma[i],2)\n",
        "    parametro_1 = dummy_1 + parametro_1\n",
        "  for i in range(dimensione): #secondo termine del delta\n",
        "    dummy_2 = 0\n",
        "    dummy_2 = pow(x[i],2) / pow(sigma[i],2)\n",
        "    parametro_2 = dummy_2 + parametro_2\n",
        "  dummy_3_1 = 0\n",
        "  for i in range(dimensione): #terzo termine del delta\n",
        "    dummy_3 = 0\n",
        "    dummy_3 = x[i] / pow(sigma[i],2)\n",
        "    dummy_3_1 = dummy_3 + dummy_3_1\n",
        "  parametro_3 = pow(dummy_3_1,2)\n",
        "  delta = (parametro_1*parametro_2) - parametro_3\n",
        "  delta_1 = 1/delta\n",
        "  #calcolo di b\n",
        "  parametro_4 = 0\n",
        "  parametro_5 = 0\n",
        "  parametro_6 = 0\n",
        "  parametro_7 = 0\n",
        "  for i in range(dimensione): #calcolo del primo termine di a\n",
        "    dummy_4 = 0\n",
        "    dummy_4 = 1/pow(sigma[i],2)\n",
        "    parametro_4 = dummy_4 + parametro_4\n",
        "  for i in range(dimensione): #calcolo del secondo termine di a\n",
        "    dummy_5 = 0\n",
        "    dummy_5 = (x[i]*y[i]) / pow(sigma[i],2)\n",
        "    parametro_5 = dummy_5 + parametro_5\n",
        "  for i in range(dimensione): #calcolo del terzo termine di a\n",
        "    dummy_6 = 0\n",
        "    dummy_6 = x[i] / pow(sigma[i],2)\n",
        "    parametro_6 = dummy_6 + parametro_6\n",
        "  for i in range(dimensione): #calcolo del quarto termine di a\n",
        "    dummy_7 = 0\n",
        "    dummy_7 = y[i] / pow(sigma[i],2)\n",
        "    parametro_7 = dummy_7 + parametro_7\n",
        "  dummy_b1 = delta_1*parametro_4*parametro_5\n",
        "  dummy_b2 = delta_1*parametro_6*parametro_7\n",
        "  b = dummy_b1-dummy_b2\n",
        "\t#calcolo di a\n",
        "  parametro_8 = parametro_2\n",
        "  parametro_9 = parametro_7\n",
        "  parametro_10 = parametro_6\n",
        "  parametro_11 = parametro_5\n",
        "  dummy_a1 = delta_1*parametro_8*parametro_9\n",
        "  dummy_a2 = delta_1*parametro_10*parametro_11\n",
        "  a = dummy_a1-dummy_a2\n",
        "  #calcolo incertezza e covarianza\n",
        "  #sigma b\n",
        "  sigma_b = math.sqrt(delta_1*parametro_1)\n",
        "  #sigma a\n",
        "  sigma_a = math.sqrt(delta_1*parametro_8)\n",
        "  #covrianza\n",
        "  #al mmento non disponibile\n",
        "  #COEFFICIENTE DI CORRELLAZIONE DI PEARSON\n",
        "  media_x = sum(x) / dimensione\n",
        "  media_y = sum(y) / dimensione\n",
        "  numeratore = 0\n",
        "  denominatore = 0\n",
        "  dummy_denx = 0\n",
        "  dummy_deny = 0\n",
        "  for i in range(dimensione):\n",
        "    dummy_x = x[i]-media_x\n",
        "    dummy_y = y[i]-media_y\n",
        "    dummy_numeratore = dummy_x*dummy_y\n",
        "    numeratore = dummy_numeratore + numeratore\n",
        "    dummy_x2 = pow(dummy_x,2)\n",
        "    dummy_y2 = pow(dummy_y,2)\n",
        "    dummy_denx = dummy_x2 + dummy_denx\n",
        "    dummy_deny = dummy_y2 + dummy_deny\n",
        "  dummy_denominatore = dummy_denx * dummy_deny\n",
        "  denominatore = math.sqrt(dummy_denominatore)\n",
        "  rxy = numeratore / denominatore\n",
        "  numeratore_sigma = 1 - pow(rxy,2)\n",
        "  denominatore_sigma = dimensione - 2\n",
        "  sigma_rxy = math.sqrt(numeratore_sigma/denominatore_sigma)\n",
        "  #ERRORE A POSTERIORI\n",
        "  parametro_12 = 1 / (dimensione - 2)\n",
        "  y_riferimento = []\n",
        "  for i in range(dimensione):\n",
        "    dummy_y = 0\n",
        "    dummy_y = a + (b*x[i])\n",
        "    y_riferimento.append(dummy_y)\n",
        "  scarti_quadrati = 0\n",
        "  for i in range(dimensione):\n",
        "    dummy_sq = y[i] - y_riferimento[i]\n",
        "    dummy_sq2 = pow(dummy_sq,2)\n",
        "    scarti_quadrati = dummy_sq2 + scarti_quadrati\n",
        "  errore_posteriori = math.sqrt(parametro_12*scarti_quadrati)\n",
        "  #print dei risultati\n",
        "  print(\"pendenza $b$\\t\", b)\n",
        "  print(\"$\\sigma_b$\\t\", sigma_b)\n",
        "  print(\"intercetta $a$\\t\", a)\n",
        "  print(\"$\\sigma_a$\\t\", sigma_a)\n",
        "  #print(\"covarianza\", )\n",
        "  print(\"Coefficiente di Pearson $\\\\rho_{xy}$\\t\",  rxy)\n",
        "  print(\"$\\sigma_{\\\\rho_{xy}}$\\t\", sigma_rxy)\n",
        "  print(\"Errore a posteriori $\\delta$\\t\",  errore_posteriori)"
      ],
      "metadata": {
        "id": "lqSxVsSVrN2f"
      },
      "execution_count": 4,
      "outputs": []
    },
    {
      "cell_type": "code",
      "source": [
        "def retta_fit_xba(x, b,a):\n",
        "  y = []\n",
        "  for i in range(len(x)):\n",
        "    dummy = 0\n",
        "    dummy = (x[i]*b) + a\n",
        "    y.append(dummy)\n",
        "  return y\n",
        "def retta_fit_xa(x, a):\n",
        "  y = []\n",
        "  for i in range(len(x)):\n",
        "    dummy = 0\n",
        "    dummy = (x[i]*0) + a\n",
        "    y.append(dummy)\n",
        "  return y"
      ],
      "metadata": {
        "id": "gDGN_fKTrNzl"
      },
      "execution_count": 5,
      "outputs": []
    },
    {
      "cell_type": "code",
      "source": [
        "def chi_quadro_lineare(y_vec, x_vec, sigma_vec, inte, pend, stringa_ytitle, stringa_xtitle, stringa_titolo):\n",
        "\n",
        "\timport math\n",
        "\timport matplotlib.pyplot as plt\n",
        "\n",
        "#La formula della retta utilizzata è: y = a + bx\n",
        "#dati\n",
        "\ty = list(y_vec)\n",
        "\tx = list(x_vec)\n",
        "\tsigma = list(sigma_vec)\n",
        "\tintercetta = inte\n",
        "\tpendenza = pend\n",
        "\tdimensione = len(y)\n",
        "\n",
        "#calcolo del riferimento\n",
        "\ty_ref = []\n",
        "\tfor i in x:\n",
        "\t\tdummy_1 = 0\n",
        "\t\tdummy_1 = (i*pendenza) + intercetta\n",
        "\t\ty_ref.append(dummy_1)\n",
        "\n",
        "#calcolo del chi quadro\n",
        "\tvettore_scarti_quadratici = []\n",
        "\tvettore_scarti = []\n",
        "\tfor i in range(dimensione):\n",
        "\t\tdummy_2 = 0\n",
        "\t\tdummy_3 = 0\n",
        "\t\tdummy_4 = 0\n",
        "\t\tdummy_2 = y[i] - y_ref[i]\n",
        "\t\tdummy_3 = dummy_2 / sigma[i]\n",
        "\t\tdummy_4 = dummy_3**2\n",
        "\t\tvettore_scarti_quadratici.append(dummy_4)\n",
        "\t\tvettore_scarti.append(dummy_2)\n",
        "\n",
        "\tchi_quadro = sum(vettore_scarti_quadratici)\n",
        "\tprint(\"chi quadro \\n\", chi_quadro)\n",
        "\tprint(\"NDOF  \\n\", dimensione-2)\n",
        "\n",
        "#print del grafico degli scarti\n",
        "\tascisse = x\n",
        "\tprint(vettore_scarti)\n",
        "\n",
        "\tplt.errorbar(ascisse, vettore_scarti, marker=\".\", linestyle=\"none\", yerr=sigma, ecolor=\"cornflowerblue\", capsize=5)\n",
        "\tplt.title(\"Grafico dei residui di regressione \" + stringa_titolo )\n",
        "\tplt.ylabel(stringa_ytitle)\n",
        "\tplt.xlabel(stringa_xtitle)\n",
        "\tplt.axhline(0, color='black', linewidth=\"0.6\")\n",
        "\tplt.grid()"
      ],
      "metadata": {
        "id": "DUXaebOEcaLP"
      },
      "execution_count": 17,
      "outputs": []
    }
  ]
}