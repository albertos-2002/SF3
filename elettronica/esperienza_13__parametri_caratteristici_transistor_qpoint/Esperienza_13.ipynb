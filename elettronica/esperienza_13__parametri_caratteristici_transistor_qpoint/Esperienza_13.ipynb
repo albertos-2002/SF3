{
  "nbformat": 4,
  "nbformat_minor": 0,
  "metadata": {
    "colab": {
      "provenance": [],
      "authorship_tag": "ABX9TyOed25/jYsUiw/NmyS4puBh",
      "include_colab_link": true
    },
    "kernelspec": {
      "name": "python3",
      "display_name": "Python 3"
    },
    "language_info": {
      "name": "python"
    }
  },
  "cells": [
    {
      "cell_type": "markdown",
      "metadata": {
        "id": "view-in-github",
        "colab_type": "text"
      },
      "source": [
        "<a href=\"https://colab.research.google.com/github/albertos-2002/SF3/blob/main/elettronica/esperienza_13__parametri_caratteristici_transistor_qpoint/Esperienza_13.ipynb\" target=\"_parent\"><img src=\"https://colab.research.google.com/assets/colab-badge.svg\" alt=\"Open In Colab\"/></a>"
      ]
    },
    {
      "cell_type": "code",
      "execution_count": 1,
      "metadata": {
        "id": "wshz2vg-XlwC"
      },
      "outputs": [],
      "source": [
        "import math\n",
        "import matplotlib.pyplot as plt\n",
        "import numpy as np\n",
        "from scipy.optimize import curve_fit"
      ]
    },
    {
      "cell_type": "markdown",
      "source": [
        "Misura delle capacità di protezione sui generatori (misura con metrix)\n",
        "\n",
        "$C_{p1} = C_{p2} = 1.03 μF$"
      ],
      "metadata": {
        "id": "l31qjxSJYswZ"
      }
    },
    {
      "cell_type": "code",
      "source": [
        "errore = math.sqrt( (1.03*1/100)**2 + (0.1)**2 )\n",
        "print(errore)"
      ],
      "metadata": {
        "colab": {
          "base_uri": "https://localhost:8080/"
        },
        "id": "wTAW6hBPY6dZ",
        "outputId": "6c62ad49-7af9-4590-ea21-4421c0f2a046"
      },
      "execution_count": null,
      "outputs": [
        {
          "output_type": "stream",
          "name": "stdout",
          "text": [
            "0.10052905052769573\n"
          ]
        }
      ]
    },
    {
      "cell_type": "markdown",
      "source": [
        "# 🟢 1.1) Determinazione del Q-point"
      ],
      "metadata": {
        "id": "ASwQGmKDanJs"
      }
    },
    {
      "cell_type": "markdown",
      "source": [
        "Le misure di tensione e di corrente sono stae eseguite con il metrix\n",
        "\n",
        "- per la resistenza si è usata una scala di 1000KΩ\n",
        "\n",
        "- per le tensioni si è usata una scala di 10V\n",
        "\n",
        "  impedenza di ingresso 10.5 MΩ\n",
        "\n",
        "- per le correnti si è usata una scala 1000μA\n",
        "\n",
        "  impedenza di ingresso circa 170 Ω\n",
        "\n",
        "La tensione $V_{DS}$ è stata fissata a $6 V$"
      ],
      "metadata": {
        "id": "UhZFLYgOarTy"
      }
    },
    {
      "cell_type": "code",
      "source": [
        "r1 = 815.60 #kohm\n",
        "err_r1 = math.sqrt( (r1*0.07/100)**2 + (0.08)**2 )\n",
        "print(\"Resistenza di protezione\")\n",
        "print(r1, \" \\pm \", err_r1)\n",
        "\n",
        "v_ds = 6.0310 #V\n",
        "err_v_ds = math.sqrt( (v_ds*0.03/100)**2 + (0.0008)**2 )\n",
        "print(\"\\nV_ds\")\n",
        "print(v_ds, \" \\pm \", err_v_ds)\n",
        "\n",
        "v_gs = 2.4504 #V\n",
        "err_v_gs = math.sqrt( (v_gs*0.03/100)**2 + (0.0008)**2 )\n",
        "print(\"\\nV_gs\")\n",
        "print(v_gs, \" \\pm \", err_v_gs)\n",
        "\n",
        "i_d = 0.79687 #microA\n",
        "err_i_d = math.sqrt( (i_d*0.1/100)**2 + (0.00015)**2 )\n",
        "print(\"\\nI_d\")\n",
        "print(i_d, \" \\pm \", err_i_d)"
      ],
      "metadata": {
        "colab": {
          "base_uri": "https://localhost:8080/"
        },
        "id": "jFYLfDPOaxCb",
        "outputId": "d4bfb996-3590-4771-9f76-53f1d7979581"
      },
      "execution_count": null,
      "outputs": [
        {
          "output_type": "stream",
          "name": "stdout",
          "text": [
            "Resistenza di protezione\n",
            "815.6  \\pm  0.5764977418862975\n",
            "\n",
            "V_ds\n",
            "6.031  \\pm  0.001978273613532769\n",
            "\n",
            "V_gs\n",
            "2.4504  \\pm  0.0010864627993631445\n",
            "\n",
            "I_d\n",
            "0.79687  \\pm  0.0008108648450265927\n"
          ]
        }
      ]
    },
    {
      "cell_type": "markdown",
      "source": [
        "# 🟠 1.2) Determinazione di $λ_n$"
      ],
      "metadata": {
        "id": "Z14-Pfq3ewBA"
      }
    },
    {
      "cell_type": "markdown",
      "source": [
        "Il valore di $V_{gs}$ non è stato modificato\n",
        "\n",
        "Le scale di misura non sono state cambiate"
      ],
      "metadata": {
        "id": "Jw9YLVhAe6Md"
      }
    },
    {
      "cell_type": "code",
      "source": [
        "v_ds = 8.0010 #V\n",
        "err_v_ds = math.sqrt( (v_ds*0.03/100)**2 + (0.0008)**2 )\n",
        "print(\"V_ds\")\n",
        "print(v_ds, \" \\pm \", err_v_ds)\n",
        "\n",
        "i_d = 0.80590 #microA\n",
        "err_i_d = math.sqrt( (i_d*0.1/100)**2 + (0.00015)**2 )\n",
        "print(\"\\nI_d\")\n",
        "print(i_d, \" \\pm \", err_i_d)"
      ],
      "metadata": {
        "colab": {
          "base_uri": "https://localhost:8080/"
        },
        "id": "EWz-uQwxe6dV",
        "outputId": "4d5ecb9a-484c-45e7-ef79-26f7fd18031c"
      },
      "execution_count": null,
      "outputs": [
        {
          "output_type": "stream",
          "name": "stdout",
          "text": [
            "V_ds\n",
            "8.001  \\pm  0.0025301067349026993\n",
            "\n",
            "I_d\n",
            "0.8059  \\pm  0.0008197406968060082\n"
          ]
        }
      ]
    },
    {
      "cell_type": "markdown",
      "source": [
        "Se stiamo lavorando in zona di satorazione abbiamo che\n",
        "\n",
        "La corrente del punto 1.1 è:\n",
        "\n",
        "$I_{d1} = \\frac{K_n}{2}(V_{gs}-V_{tn})^2$\n",
        "\n",
        "Mentre la corrente per il punto 1.2 è:\n",
        "\n",
        "$I_{d2} = \\frac{K_n}{2}(V_{gs}-V_{tn})^2 (1+λ_nV_{ds})$\n",
        "\n",
        "E quindi è anche uguale a:\n",
        "\n",
        "$ I_{d2} = I_{d1}(1+λ_nV_{ds}) $\n",
        "\n",
        "Ma allora:\n",
        "\n",
        "$ \\frac{I_{d2}}{I_{d1}} = (1+λ_nV_{ds}) $\n",
        "\n",
        "Perciò:\n",
        "\n",
        "$\\frac{\\frac{I_{d2}}{I_{d1}} -1}{V_{ds}} = λ_n$\n",
        "\n",
        "La teoria ci dice che ci dobbiamo aspettare valori che rientrano tra:\n",
        "\n",
        "$10^{-3} - 10^{-1} \\ V^{-1}$"
      ],
      "metadata": {
        "id": "gdR-C5VKhViQ"
      }
    },
    {
      "cell_type": "code",
      "source": [
        "lambda_n = ( (0.80010 / 0.79687) -1 )/8.0010\n",
        "err_lambda_n = 0 #da calcolare\n",
        "print(\"Lambda [mV]\")\n",
        "print(lambda_n*1000, \" \\pm \", err_lambda_n*1000)"
      ],
      "metadata": {
        "colab": {
          "base_uri": "https://localhost:8080/"
        },
        "id": "Qjec86v0hZ3b",
        "outputId": "8b16c3fb-f8b9-4021-d361-227bb667e2a3"
      },
      "execution_count": null,
      "outputs": [
        {
          "output_type": "stream",
          "name": "stdout",
          "text": [
            "Lambda [mV]\n",
            "0.5066065199565845  \\pm  0\n"
          ]
        }
      ]
    },
    {
      "cell_type": "markdown",
      "source": [
        "# 🟠 1.3) Determinazione di $K_n$ e $V_{TN}$"
      ],
      "metadata": {
        "id": "mdqy74CZkn3M"
      }
    },
    {
      "cell_type": "markdown",
      "source": [
        "È stata modificata si $V_{DS}$ (attorno a Q-point) che $V_{GS}$ (aumento di 0.2V)\n",
        "\n",
        "Le scale di misura non sono state modificate per le misure di tensione\n",
        "\n",
        "Per la misura di corrente si è usata la scala da 10mA\n",
        "\n",
        "impedenza di ingresso circa 17Ω"
      ],
      "metadata": {
        "id": "N7DiYhSMk66h"
      }
    },
    {
      "cell_type": "code",
      "source": [
        "v_ds = 6.0367 #V\n",
        "err_v_ds = math.sqrt( (v_ds*0.03/100)**2 + (0.0008)**2 )\n",
        "print(\"V_ds\")\n",
        "print(v_ds, \" \\pm \", err_v_ds)\n",
        "\n",
        "v_gs = 2.6368 #V\n",
        "err_v_gs = math.sqrt( (v_gs*0.03/100)**2 + (0.0008)**2 )\n",
        "print(\"\\nV_gs\")\n",
        "print(v_gs, \" \\pm \", err_v_gs)\n",
        "\n",
        "i_d = 1.0598 #microA\n",
        "err_i_d = math.sqrt( (i_d*0.08/100)**2 + (0.0008)**2 )\n",
        "print(\"\\nI_d\")\n",
        "print(i_d, \" \\pm \", err_i_d)"
      ],
      "metadata": {
        "colab": {
          "base_uri": "https://localhost:8080/"
        },
        "id": "bI4d8hLPk6hC",
        "outputId": "526fffb1-10a0-4362-8421-ce4f78de685f"
      },
      "execution_count": null,
      "outputs": [
        {
          "output_type": "stream",
          "name": "stdout",
          "text": [
            "V_ds\n",
            "6.0367  \\pm  0.0019798376751895596\n",
            "\n",
            "V_gs\n",
            "2.6368  \\pm  0.0011250530127953971\n",
            "\n",
            "I_d\n",
            "1.0598  \\pm  0.0011656897810309568\n"
          ]
        }
      ]
    },
    {
      "cell_type": "markdown",
      "source": [
        "**Determinazione di $V_{tn}$**\n",
        "\n",
        "La corrente nel caso precedente (1.2) era definita da:\n",
        "\n",
        "$I_{d2} = \\frac{K_n}{2}(V_{gs2}-V_{tn2})^2 (1+λ_nV_{ds2})$\n",
        "\n",
        "Avendo cambiato i parametri la corrente nel punto 1.3) è invece definita da:\n",
        "\n",
        "$I_{d3} = \\frac{K_n}{2}(V_{gs3}-V_{tn3})^2 (1+λ_nV_{ds3})$\n",
        "\n",
        "Dalla prima equazione possiamo ricavare un' espressione per $K_n$:\n",
        "\n",
        "$K_n = \\frac{ 2I_{d2} }{ (1+λ_nV_{ds2})(V_{gs2}-V_{tn})^2 }$\n",
        "\n",
        "Se inseriamo questa espressione dentro l'equazione per la corrente $I_{d3}$ dove l'unica incognita è $V_{tn}$\n",
        "\n",
        "(Si potrebbe semplificare il tutto considerando trascurabili i fattori contenenti λ e commettere un errore non troppo elevato)\n",
        "\n",
        "Dopo un piccolo passaggio algebrico troviamo la seguente espressione:\n",
        "\n",
        "$ \\frac{I_{d3}}{I_{d2}} \\frac{(1+λ_nV_{ds2})}{(1+λ_nV_{ds3})} = \\frac{(V_{gs3}-V_{tn})^2}{(V_{gs2}-V_{tn})^2} $\n",
        "\n",
        "Chiamiamo il membro di sinistra η\n",
        "\n",
        "Svolgendo diversi passaggi algebrici ci ritroviamo con una equazione di secondo grado con incognita $V_{tn}$:\n",
        "\n",
        "$ V_{tn}^2(η-1) + V_{tn}(-2ηV_{gs2} -2V_{gs3}) + (ηV_{gs2}^2-V_{gs3}^2) = 0 $\n",
        "\n",
        "Da cui possiamo infine ricavare il valore di $V_{tn}$:\n",
        "\n",
        "$ V_{tn_{1,2}} = \\frac{ -(-2ηV_{gs2} -2V_{gs3}) ± \\sqrt{(-2ηV_{gs2} -2V_{gs3})^2 - (4(η-1)(ηV_{gs2}^2-V_{gs3}^2) )} }{ 2(η-1) } $"
      ],
      "metadata": {
        "id": "jXhJp0hWSmbL"
      }
    },
    {
      "cell_type": "code",
      "source": [
        "#per comodità ci riportiamo qui alcuni valori\n",
        "id2 = 0.8059 #microA\n",
        "id3 = 1.0598 #microA\n",
        "lambdan = 0.5066065199565845/1000 #V^-1\n",
        "vgs2 = 2.4504 #(=vgs1) V\n",
        "vgs3 = 2.6368 #V\n",
        "vds2 = 8.001\n",
        "vds3 = 6.0367\n",
        "\n",
        "#calcoliamo alcuni coefficienti (spezzettiamo il lavoro)\n",
        "\n",
        "etanum = 1 + (lambdan*vds2)\n",
        "etaden = 1 + (lambdan*vds3)\n",
        "eta = ( id3/id2 ) * ( etanum/etaden )\n",
        "\n",
        "denominatore = 2*(eta-1)\n",
        "numeratore_b = (-2*eta*vgs2)+(-2*vgs3)\n",
        "radicando = (numeratore_b**2) - ( 4*(eta-1)*( eta*(vgs2)**2 + (vgs3)**2 ) )\n",
        "radice = math.sqrt(radicando)\n",
        "\n",
        "vtn_p = (-numeratore_b + radice)/denominatore\n",
        "vtn_n = (-numeratore_b -radice)/denominatore\n",
        "\n",
        "print(\"vtn per radice con +\")\n",
        "print(vtn_p)\n",
        "print(\"vtn per radice con -\")\n",
        "print(vtn_n)"
      ],
      "metadata": {
        "colab": {
          "base_uri": "https://localhost:8080/"
        },
        "id": "bTGdhqOhbyB0",
        "outputId": "49ed28f4-f7d2-4b10-8c65-4849a6f3f2d3"
      },
      "execution_count": 2,
      "outputs": [
        {
          "output_type": "stream",
          "name": "stdout",
          "text": [
            "vtn per radice con +\n",
            "35.74833703725996\n",
            "vtn per radice con -\n",
            "1.313683912807873\n"
          ]
        }
      ]
    },
    {
      "cell_type": "markdown",
      "source": [
        "Come risultato accettabile prendiamo quello più piccolo\n",
        "\n",
        "(avere una tensione di accensione di 35 volt non coincide molto con l'esperimento svolto in laboratorio)\n",
        "\n",
        "$V_{tn} = 1.313683912807873 V$"
      ],
      "metadata": {
        "id": "sVfnmHwZetx7"
      }
    },
    {
      "cell_type": "markdown",
      "source": [
        "**Deteminazione di $K_n$**\n",
        "\n",
        "Tramite l'espressione per la corrente del punto 1.3) possiamo ricavare un espressione per $K_n$:\n",
        "\n",
        "$K_n = \\frac{ 2I_{d3} }{ (1+λ_nV_{ds3})(V_{gs3}-V_{tn})^2 }$"
      ],
      "metadata": {
        "id": "64dkf4elfFN8"
      }
    },
    {
      "cell_type": "code",
      "source": [
        "#per comodità ci riportiamo qui alcuni valori\n",
        "id3 = 1.0598 #microA\n",
        "lambdan = 0.5066065199565845/1000 #V^-1\n",
        "vgs3 = 2.6368 #V\n",
        "vds3 = 6.0367 #V\n",
        "vtn = 1.313683912807873\n",
        "\n",
        "kn = (2*id3) / ( ( 1+ (lambdan*vds3) )*( (vgs3-vtn)**2 ) )\n",
        "print(kn)"
      ],
      "metadata": {
        "colab": {
          "base_uri": "https://localhost:8080/"
        },
        "id": "RvkL3OeOgDIf",
        "outputId": "87ca7b79-da88-4fcd-bdf9-88c49dad16c0"
      },
      "execution_count": 3,
      "outputs": [
        {
          "output_type": "stream",
          "name": "stdout",
          "text": [
            "1.2070683560482403\n"
          ]
        }
      ]
    }
  ]
}