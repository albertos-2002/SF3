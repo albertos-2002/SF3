{
  "nbformat": 4,
  "nbformat_minor": 0,
  "metadata": {
    "colab": {
      "provenance": [],
      "authorship_tag": "ABX9TyN8D3AiQJO8x7RAyMEVFv5u",
      "include_colab_link": true
    },
    "kernelspec": {
      "name": "python3",
      "display_name": "Python 3"
    },
    "language_info": {
      "name": "python"
    }
  },
  "cells": [
    {
      "cell_type": "markdown",
      "metadata": {
        "id": "view-in-github",
        "colab_type": "text"
      },
      "source": [
        "<a href=\"https://colab.research.google.com/github/albertos-2002/SF3/blob/main/elettronica/Esperienza_10.ipynb\" target=\"_parent\"><img src=\"https://colab.research.google.com/assets/colab-badge.svg\" alt=\"Open In Colab\"/></a>"
      ]
    },
    {
      "cell_type": "code",
      "execution_count": 2,
      "metadata": {
        "id": "aanJdXlzwH_p"
      },
      "outputs": [],
      "source": [
        "import math\n",
        "import numpy as np\n",
        "import matplotlib.pyplot as plt\n",
        "from scipy.optimize import curve_fit"
      ]
    },
    {
      "cell_type": "markdown",
      "source": [
        "#Calcolo delle componenti del circuito"
      ],
      "metadata": {
        "id": "4d7RjZm7d8td"
      }
    },
    {
      "cell_type": "markdown",
      "source": [
        "Per le misure di capacità, abbiamo riscontrato un fondo (misura nulla) di $20  \\ pF$"
      ],
      "metadata": {
        "id": "Em9lWla9eKFP"
      }
    },
    {
      "cell_type": "code",
      "source": [
        "c = 500 - 0.020 #nF scala 1000nF\n",
        "err_c = math.sqrt(1/3)* math.sqrt( (c*1/100)**2 + (10)**2 )   #ipotesi uniforme\n",
        "\n",
        "r1 = 4.630 #kohm scala 10kohm\n",
        "err_r1 = math.sqrt(1/3)* math.sqrt( (r1* 0.07/100)**2 + (0.8)**2 )\n",
        "\n",
        "r2 = 4.626 #kohm scala 10kohm\n",
        "err_r2 = math.sqrt(1/3)* math.sqrt( (r2* 0.07/100)**2 + (0.8)**2 )\n",
        "\n",
        "r3 = 4.653 #kohm scala 10kohm\n",
        "err_r3 = math.sqrt(1/3)* math.sqrt( (r3* 0.07/100)**2 + (0.8)**2 )\n",
        "\n",
        "r5 = 3.233 #kohm scala 10kohm\n",
        "err_r5 = math.sqrt(1/3)* math.sqrt( (r5* 0.07/100)**2 + (0.8)**2 )\n",
        "\n",
        "r6 = 3.228 #kohm scala 10kohm\n",
        "err_r6 = math.sqrt(1/3)* math.sqrt( (r6* 0.07/100)**2 + (0.8)**2 )\n",
        "\n",
        "print( \"c\\n\", c, \" \\pm \", err_c, \"  nF\")\n",
        "print(100* err_c/c)\n",
        "print( \"\\n r1 \\n\", r1, \" \\pm \",  err_r1, \"  kohm\")\n",
        "print(100* err_r1/r1)\n",
        "print( \"\\n r2 \\n\", r2, \" \\pm \",  err_r2, \"  kohm\")\n",
        "print(100* err_r2/r2)\n",
        "print( \"\\n r3 \\n\", r3, \" \\pm \",  err_r3, \"  kohm\")\n",
        "print(100* err_r3/r3)\n",
        "print( \"\\n r5 \\n\", r5, \" \\pm \",  err_r5, \"  kohm\")\n",
        "print(100* err_r5/r5)\n",
        "print( \"\\n r6 \\n\", r6, \" \\pm \",  err_r6, \"  kohm\")\n",
        "print(100* err_r6/r6)"
      ],
      "metadata": {
        "colab": {
          "base_uri": "https://localhost:8080/"
        },
        "id": "BgcYg5Mxd8hu",
        "outputId": "ced2c244-6f5e-4946-b880-d9dde53c6401"
      },
      "execution_count": 5,
      "outputs": [
        {
          "output_type": "stream",
          "name": "stdout",
          "text": [
            "c\n",
            " 499.98  \\pm  6.454920604727322   nF\n",
            "1.2910357623759594\n",
            "\n",
            " r1 \n",
            " 4.63  \\pm  0.461884005669894   kohm\n",
            "9.97589645075365\n",
            "\n",
            " r2 \n",
            " 4.626  \\pm  0.4618839991236039   kohm\n",
            "9.984522246511109\n",
            "\n",
            " r3 \n",
            " 4.653  \\pm  0.4618840434208605   kohm\n",
            "9.926585932105318\n",
            "\n",
            " r5 \n",
            " 3.233  \\pm  0.4618820634540128   kohm\n",
            "14.2864851052896\n",
            "\n",
            " r6 \n",
            " 3.228  \\pm  0.4618820577420748   kohm\n",
            "14.308613932530198\n"
          ]
        }
      ]
    }
  ]
}